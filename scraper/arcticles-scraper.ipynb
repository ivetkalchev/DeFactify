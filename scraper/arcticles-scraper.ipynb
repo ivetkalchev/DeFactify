{
 "cells": [
  {
   "cell_type": "markdown",
   "metadata": {},
   "source": [
    "# Data Scraping ⛏️\n",
    "\n",
    "Since this is my first attempt at scraping data, I will begin by examining only trustworthy news outlets. I believe that starting with the BBC would be the easiest, as I did my research and found out that they were ranked as the most trusted news source by Americans. Even though we live in Europe, I choose to believe this statistic. Later on, I plan to expand my list of trustworthy sources, but for now, this is my starting point, so bare with me.\n",
    "\n",
    "First, lets begin by importing the libraries, we are going to use today and checking their versions."
   ]
  },
  {
   "cell_type": "code",
   "execution_count": 33,
   "metadata": {},
   "outputs": [
    {
     "name": "stdout",
     "output_type": "stream",
     "text": [
      "scikit-learn version: 1.6.1\n",
      "pandas version: 2.2.3\n",
      "seaborn version: 0.13.2\n",
      "requests version: 2.31.0\n"
     ]
    }
   ],
   "source": [
    "import sklearn\n",
    "import pandas\n",
    "import seaborn\n",
    "import requests\n",
    "from bs4 import BeautifulSoup\n",
    "\n",
    "print(\"scikit-learn version:\", sklearn.__version__)     # 1.6.1\n",
    "print(\"pandas version:\", pandas.__version__)            # 2.2.3\n",
    "print(\"seaborn version:\", seaborn.__version__)          # 0.13.2\n",
    "print(\"requests version:\", requests.__version__)        # 2.31.0"
   ]
  },
  {
   "cell_type": "markdown",
   "metadata": {},
   "source": [
    "Now, lets get to the actual thing!! Firstly, we are doing this with the titles and links."
   ]
  },
  {
   "cell_type": "code",
   "execution_count": 39,
   "metadata": {},
   "outputs": [
    {
     "name": "stdout",
     "output_type": "stream",
     "text": [
      "Title: Pope Francis to be discharged from hospital on Sunday\n",
      "Link: https://www.bbc.com/news/articles/crrdv84rg4do\n",
      "\n",
      "Title: Heavyweight boxing legend George Foreman dies aged 76\n",
      "Link: https://www.bbc.com/news/articles/ckg8ez8201yo\n",
      "\n",
      "Title: Three killed and 15 injured in New Mexico mass shooting\n",
      "Link: https://www.bbc.com/news/articles/cn0jn4jzj11o\n",
      "\n",
      "Title: At least two dead as wildfires rage in South Korea\n",
      "Link: https://www.bbc.com/news/articles/cdx2801qegvo\n",
      "\n",
      "Title: Pope Francis to be discharged from hospital on Sunday\n",
      "Link: https://www.bbc.com/news/articles/crrdv84rg4do\n",
      "\n",
      "Title: Protesters in Turkey rally 'for justice' after mayor's arrest\n",
      "Link: https://www.bbc.com/news/articles/c0egjvj8vdro\n",
      "\n",
      "Title: Hillary Clinton and Kamala Harris lose security clearance after Trump order\n",
      "Link: https://www.bbc.com/news/articles/c74kg3e2m08o\n",
      "\n",
      "Title: Facebook to stop targeting ads at UK woman after legal fight\n",
      "Link: https://www.bbc.com/news/articles/c1en1yjv4dpo\n",
      "\n",
      "Title: Heavyweight boxing legend George Foreman dies aged 76\n",
      "Link: https://www.bbc.com/news/articles/ckg8ez8201yo\n",
      "\n",
      "Title: Watch: Moment police chase ends in four car pile-up in Paris\n",
      "Link: https://www.bbc.com/news/videos/c89ynj20p9po\n",
      "\n",
      "Title: Columbia University agrees to Trump administration's demand for mask ban\n",
      "Link: https://www.bbc.com/news/articles/c9q499x3v4yo\n",
      "\n",
      "Title: Investigation ordered into power outage that closed Heathrow\n",
      "Link: https://www.bbc.com/news/articles/cgm1krkxrxgo\n",
      "\n",
      "Title: Venezuela to resume repatriation of migrants after deal with US\n",
      "Link: https://www.bbc.com/news/articles/c17q170zwjeo\n",
      "\n",
      "Title: Canada can win trade war with US, foreign affairs minister Mélanie Joly says\n",
      "Link: https://www.bbc.com/news/articles/cg70mknye9lo\n",
      "\n",
      "Title: Five key moments in the battle for Khartoum\n",
      "Link: https://www.bbc.com/news/articles/ckgy341v680o\n",
      "\n",
      "Title: Extreme day trips: 'I go abroad then fly home in time for bed'\n",
      "Link: https://www.bbc.com/news/articles/cn7v5lr2186o\n",
      "\n",
      "Title: Honest or unrealistic? Roblox boss' online safety advice sparks debate\n",
      "Link: https://www.bbc.com/news/articles/clynwgdrr48o\n",
      "\n",
      "Title: Why earthquake predictions are usually wrong\n",
      "Link: https://www.bbc.com/news/articles/c247jq391npo\n",
      "\n",
      "Title: Five key moments in the battle for Khartoum\n",
      "Link: https://www.bbc.com/news/articles/ckgy341v680o\n",
      "\n",
      "Title: Football academies: When chasing a dream becomes a nightmare\n",
      "Link: https://www.bbc.com/news/articles/c0egr1nj9qpo\n",
      "\n",
      "Title: Why Trump is struggling to secure fast ceasefire in Ukraine\n",
      "Link: https://www.bbc.com/news/articles/c89yngk2z7qo\n",
      "\n",
      "Title: Extreme day trips: 'I go abroad then fly home in time for bed'\n",
      "Link: https://www.bbc.com/news/articles/cn7v5lr2186o\n",
      "\n",
      "Title: Heathrow airport closure: What we know so far\n",
      "Link: https://www.bbc.com/news/articles/c1jp1dg7g45o\n",
      "\n",
      "Title: Judge in deportations case says government lawyers 'disrespectful'\n",
      "Link: https://www.bbc.com/news/articles/c99n84xdl4zo\n",
      "\n",
      "Title: US to import millions of eggs from Turkey and South Korea to ease prices\n",
      "Link: https://www.bbc.com/news/articles/c743g135vj9o\n",
      "\n",
      "Title: Israel orders army to 'seize additional territories' in Gaza\n",
      "Link: https://www.bbc.com/news/articles/clyj5vq4wnwo\n",
      "\n",
      "Title: Heathrow airport closure: What we know so far\n",
      "Link: https://www.bbc.com/news/articles/c1jp1dg7g45o\n",
      "\n",
      "Title: Lewis Hamilton hits out at 'yapping' critics after F1 sprint win in China\n",
      "Link: https://www.bbc.com/sport/formula1/articles/c78egyj4ng3o\n",
      "\n",
      "Title: Adolescence writer calls for 'radical action' not role models\n",
      "Link: https://www.bbc.com/news/articles/c0egyyq1z47o\n",
      "\n",
      "Title: Judge in deportations case says government lawyers 'disrespectful'\n",
      "Link: https://www.bbc.com/news/articles/c99n84xdl4zo\n",
      "\n",
      "Title: UFC London: Emotional McCann announces retirement after loss\n",
      "Link: https://www.bbc.comhttps://www.bbc.com/sport/mixed-martial-arts/live/c74ek3wdzyqt\n",
      "\n",
      "Title: Scotland triumph in another thriller against Wales\n",
      "Link: https://www.bbc.com/sport/rugby-union/articles/c5yx4n0rle2o\n",
      "\n",
      "Title: Hamilton hits out at 'yapping' critics after China sprint win\n",
      "Link: https://www.bbc.com/sport/formula1/articles/c78egyj4ng3o\n",
      "\n",
      "Title: McCann retires after first-round defeat by Thainara\n",
      "Link: https://www.bbc.com/sport/mixed-martial-arts/articles/cn89e7yzg49o\n",
      "\n",
      "Title: UFC London: Emotional McCann announces retirement after loss\n",
      "Link: https://www.bbc.comhttps://www.bbc.com/sport/mixed-martial-arts/live/c74ek3wdzyqt\n",
      "\n",
      "Title: Draper shocked by Mensik in Miami Open second round\n",
      "Link: https://www.bbc.com/sport/tennis/articles/c1lp13d2gnno\n",
      "\n",
      "Title: Kohli and Salt lead RCB to victory in IPL opener\n",
      "Link: https://www.bbc.com/sport/cricket/articles/c0mw7ey2d3ko\n",
      "\n",
      "Title: Scotland triumph in another thriller against Wales\n",
      "Link: https://www.bbc.com/sport/rugby-union/articles/c5yx4n0rle2o\n",
      "\n"
     ]
    }
   ],
   "source": [
    "bbc_url = 'https://www.bbc.com'\n",
    "\n",
    "def scrape_news():\n",
    "    url = bbc_url + '/news'\n",
    "    response = requests.get(url)\n",
    "    soup = BeautifulSoup(response.text, 'html.parser')\n",
    "    \n",
    "    articles = []\n",
    "    for article in soup.find_all('a', class_='sc-2e6baa30-0 gILusN'):\n",
    "        title_element = article.find('h2', class_='sc-87075214-3 eywmDE')\n",
    "        if title_element:\n",
    "            title = title_element.text.strip()\n",
    "            link = bbc_url + article['href']\n",
    "            articles.append({'title': title, 'link': link})\n",
    "    \n",
    "    return articles\n",
    "\n",
    "news_articles = scrape_news()\n",
    "\n",
    "for article in news_articles:\n",
    "    print(f\"Title: {article['title']}\")\n",
    "    print(f\"Link: {article['link']}\")\n",
    "    print()"
   ]
  },
  {
   "cell_type": "markdown",
   "metadata": {},
   "source": [
    "Now, lets put the titles and links in a csv file."
   ]
  },
  {
   "cell_type": "code",
   "execution_count": 40,
   "metadata": {},
   "outputs": [
    {
     "name": "stdout",
     "output_type": "stream",
     "text": [
      "Saved to bbc_news_articles.csv\n"
     ]
    }
   ],
   "source": [
    "df = pandas.DataFrame(news_articles)\n",
    "df.to_csv(\"bbc_news_articles.csv\", index=False)\n",
    "print(\"Saved to bbc_news_articles.csv\")"
   ]
  }
 ],
 "metadata": {
  "kernelspec": {
   "display_name": "Python 3",
   "language": "python",
   "name": "python3"
  },
  "language_info": {
   "codemirror_mode": {
    "name": "ipython",
    "version": 3
   },
   "file_extension": ".py",
   "mimetype": "text/x-python",
   "name": "python",
   "nbconvert_exporter": "python",
   "pygments_lexer": "ipython3",
   "version": "3.11.5"
  }
 },
 "nbformat": 4,
 "nbformat_minor": 2
}
