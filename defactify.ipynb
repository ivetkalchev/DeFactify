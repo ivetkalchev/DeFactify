{
 "cells": [
  {
   "cell_type": "markdown",
   "metadata": {},
   "source": [
    "# DeFactify 📰\n",
    "\n",
    "First, lets import the libraries."
   ]
  },
  {
   "cell_type": "code",
   "execution_count": 136,
   "metadata": {},
   "outputs": [
    {
     "name": "stdout",
     "output_type": "stream",
     "text": [
      "scikit-learn version: 1.6.1\n",
      "pandas version: 2.2.3\n",
      "seaborn version: 0.13.2\n",
      "nltk version: 3.9.1\n"
     ]
    }
   ],
   "source": [
    "import sklearn\n",
    "import pandas\n",
    "import seaborn\n",
    "import nltk\n",
    "import re\n",
    "\n",
    "from nltk.corpus import stopwords\n",
    "from nltk.stem import PorterStemmer\n",
    "from nltk.tokenize import word_tokenize\n",
    "\n",
    "from sklearn.feature_extraction.text import TfidfVectorizer\n",
    "from sklearn.model_selection import train_test_split\n",
    "from sklearn.neighbors import KNeighborsClassifier\n",
    "from sklearn.metrics import accuracy_score\n",
    "\n",
    "print(\"scikit-learn version:\", sklearn.__version__)  # 1.6.1\n",
    "print(\"pandas version:\", pandas.__version__)         # 2.2.3\n",
    "print(\"seaborn version:\", seaborn.__version__)       # 0.13.2\n",
    "print(\"nltk version:\", nltk.__version__)             # 3.9.1"
   ]
  },
  {
   "cell_type": "markdown",
   "metadata": {},
   "source": [
    "## Importing stopwords\n",
    "\n",
    "This package will help us filter out the unnecessary words in the contents of the articles."
   ]
  },
  {
   "cell_type": "code",
   "execution_count": 137,
   "metadata": {},
   "outputs": [
    {
     "name": "stdout",
     "output_type": "stream",
     "text": [
      "['a', 'about', 'above', 'after', 'again', 'against', 'ain', 'all', 'am', 'an', 'and', 'any', 'are', 'aren', \"aren't\", 'as', 'at', 'be', 'because', 'been', 'before', 'being', 'below', 'between', 'both', 'but', 'by', 'can', 'couldn', \"couldn't\", 'd', 'did', 'didn', \"didn't\", 'do', 'does', 'doesn', \"doesn't\", 'doing', 'don', \"don't\", 'down', 'during', 'each', 'few', 'for', 'from', 'further', 'had', 'hadn', \"hadn't\", 'has', 'hasn', \"hasn't\", 'have', 'haven', \"haven't\", 'having', 'he', \"he'd\", \"he'll\", 'her', 'here', 'hers', 'herself', \"he's\", 'him', 'himself', 'his', 'how', 'i', \"i'd\", 'if', \"i'll\", \"i'm\", 'in', 'into', 'is', 'isn', \"isn't\", 'it', \"it'd\", \"it'll\", \"it's\", 'its', 'itself', \"i've\", 'just', 'll', 'm', 'ma', 'me', 'mightn', \"mightn't\", 'more', 'most', 'mustn', \"mustn't\", 'my', 'myself', 'needn', \"needn't\", 'no', 'nor', 'not', 'now', 'o', 'of', 'off', 'on', 'once', 'only', 'or', 'other', 'our', 'ours', 'ourselves', 'out', 'over', 'own', 're', 's', 'same', 'shan', \"shan't\", 'she', \"she'd\", \"she'll\", \"she's\", 'should', 'shouldn', \"shouldn't\", \"should've\", 'so', 'some', 'such', 't', 'than', 'that', \"that'll\", 'the', 'their', 'theirs', 'them', 'themselves', 'then', 'there', 'these', 'they', \"they'd\", \"they'll\", \"they're\", \"they've\", 'this', 'those', 'through', 'to', 'too', 'under', 'until', 'up', 've', 'very', 'was', 'wasn', \"wasn't\", 'we', \"we'd\", \"we'll\", \"we're\", 'were', 'weren', \"weren't\", \"we've\", 'what', 'when', 'where', 'which', 'while', 'who', 'whom', 'why', 'will', 'with', 'won', \"won't\", 'wouldn', \"wouldn't\", 'y', 'you', \"you'd\", \"you'll\", 'your', \"you're\", 'yours', 'yourself', 'yourselves', \"you've\"]\n"
     ]
    }
   ],
   "source": [
    "stemmer = PorterStemmer()\n",
    "\n",
    "stop_words = set(stopwords.words('english'))\n",
    "\n",
    "print(stopwords.words('English'))"
   ]
  },
  {
   "cell_type": "markdown",
   "metadata": {},
   "source": [
    "## Data provisioning 📦"
   ]
  },
  {
   "cell_type": "markdown",
   "metadata": {},
   "source": [
    "Let's first insert the BBC dataset."
   ]
  },
  {
   "cell_type": "code",
   "execution_count": 138,
   "metadata": {},
   "outputs": [
    {
     "data": {
      "text/plain": [
       "(39, 7)"
      ]
     },
     "execution_count": 138,
     "metadata": {},
     "output_type": "execute_result"
    }
   ],
   "source": [
    "bbc_dataset_v1 = pandas.read_csv('scraper/bbc_news_articles_v1.csv')\n",
    "bbc_dataset_v1.shape"
   ]
  },
  {
   "cell_type": "code",
   "execution_count": 139,
   "metadata": {},
   "outputs": [
    {
     "data": {
      "text/plain": [
       "(38, 7)"
      ]
     },
     "execution_count": 139,
     "metadata": {},
     "output_type": "execute_result"
    }
   ],
   "source": [
    "bbc_dataset_v2 = pandas.read_csv('scraper/bbc_news_articles_v2.csv')\n",
    "bbc_dataset_v2.shape"
   ]
  },
  {
   "cell_type": "markdown",
   "metadata": {},
   "source": [
    "Now lets also add the generated fake news data."
   ]
  },
  {
   "cell_type": "code",
   "execution_count": 140,
   "metadata": {},
   "outputs": [
    {
     "data": {
      "text/plain": [
       "(30016, 6)"
      ]
     },
     "execution_count": 140,
     "metadata": {},
     "output_type": "execute_result"
    }
   ],
   "source": [
    "columns = ['id','title','text','subject','date','classification']\n",
    "huggingface_dataset = pandas.read_csv('scraper/huggingface_dataset.csv', usecols=columns, low_memory=False)\n",
    "huggingface_dataset.shape"
   ]
  },
  {
   "cell_type": "markdown",
   "metadata": {},
   "source": [
    "## Combine both datasets"
   ]
  },
  {
   "cell_type": "code",
   "execution_count": 155,
   "metadata": {},
   "outputs": [
    {
     "data": {
      "text/plain": [
       "(30093, 9)"
      ]
     },
     "execution_count": 155,
     "metadata": {},
     "output_type": "execute_result"
    }
   ],
   "source": [
    "combined_dataset = pandas.concat([bbc_dataset_v1, bbc_dataset_v2, huggingface_dataset], ignore_index=True)\n",
    "\n",
    "combined_dataset.shape"
   ]
  },
  {
   "cell_type": "markdown",
   "metadata": {},
   "source": [
    "# Sample the data 📃"
   ]
  },
  {
   "cell_type": "code",
   "execution_count": 156,
   "metadata": {},
   "outputs": [
    {
     "data": {
      "text/html": [
       "<div>\n",
       "<style scoped>\n",
       "    .dataframe tbody tr th:only-of-type {\n",
       "        vertical-align: middle;\n",
       "    }\n",
       "\n",
       "    .dataframe tbody tr th {\n",
       "        vertical-align: top;\n",
       "    }\n",
       "\n",
       "    .dataframe thead th {\n",
       "        text-align: right;\n",
       "    }\n",
       "</style>\n",
       "<table border=\"1\" class=\"dataframe\">\n",
       "  <thead>\n",
       "    <tr style=\"text-align: right;\">\n",
       "      <th></th>\n",
       "      <th>title</th>\n",
       "      <th>link</th>\n",
       "      <th>source</th>\n",
       "      <th>author</th>\n",
       "      <th>date</th>\n",
       "      <th>text</th>\n",
       "      <th>classification</th>\n",
       "      <th>id</th>\n",
       "      <th>subject</th>\n",
       "    </tr>\n",
       "  </thead>\n",
       "  <tbody>\n",
       "    <tr>\n",
       "      <th>26921</th>\n",
       "      <td>Russia says Pyongyang wants direct talks with ...</td>\n",
       "      <td>NaN</td>\n",
       "      <td>NaN</td>\n",
       "      <td>NaN</td>\n",
       "      <td>7-Dec-17</td>\n",
       "      <td>Russian Foreign Minister Sergei Lavrov said on...</td>\n",
       "      <td>1</td>\n",
       "      <td>12825</td>\n",
       "      <td>worldnews</td>\n",
       "    </tr>\n",
       "    <tr>\n",
       "      <th>29119</th>\n",
       "      <td>Timeline: Zika's origin and global spread</td>\n",
       "      <td>NaN</td>\n",
       "      <td>NaN</td>\n",
       "      <td>NaN</td>\n",
       "      <td>11-Aug-16</td>\n",
       "      <td>80s: Zika detected in mosquitoes and monkeys a...</td>\n",
       "      <td>1</td>\n",
       "      <td>8482</td>\n",
       "      <td>politicsNews</td>\n",
       "    </tr>\n",
       "    <tr>\n",
       "      <th>18528</th>\n",
       "      <td>Rick Scott Was So Butthurt By The Woman Who Ca...</td>\n",
       "      <td>NaN</td>\n",
       "      <td>NaN</td>\n",
       "      <td>NaN</td>\n",
       "      <td>9-Apr-16</td>\n",
       "      <td>Florida Governor Rick Scott isn t up for re-el...</td>\n",
       "      <td>0</td>\n",
       "      <td>7013</td>\n",
       "      <td>News</td>\n",
       "    </tr>\n",
       "    <tr>\n",
       "      <th>7790</th>\n",
       "      <td>“Trumpocalypse”: HACKED EMAIL EXPOSES DEMOCRAT...</td>\n",
       "      <td>NaN</td>\n",
       "      <td>NaN</td>\n",
       "      <td>NaN</td>\n",
       "      <td>6-Jul-16</td>\n",
       "      <td>Let that sink in A major party in America is p...</td>\n",
       "      <td>0</td>\n",
       "      <td>20328</td>\n",
       "      <td>left-news</td>\n",
       "    </tr>\n",
       "    <tr>\n",
       "      <th>11738</th>\n",
       "      <td>NO RESPECT! US DIPLOMAT ATTACKED By Russian Gu...</td>\n",
       "      <td>NaN</td>\n",
       "      <td>NaN</td>\n",
       "      <td>NaN</td>\n",
       "      <td>10-Jul-16</td>\n",
       "      <td>If you haven t seethe viral video of a takedow...</td>\n",
       "      <td>0</td>\n",
       "      <td>16503</td>\n",
       "      <td>Government News</td>\n",
       "    </tr>\n",
       "    <tr>\n",
       "      <th>10886</th>\n",
       "      <td>Rep. Maxine Waters Just Nailed Ben Carson To T...</td>\n",
       "      <td>NaN</td>\n",
       "      <td>NaN</td>\n",
       "      <td>NaN</td>\n",
       "      <td>3-Jul-17</td>\n",
       "      <td>Rep. Maxine Waters just called Housing and Urb...</td>\n",
       "      <td>0</td>\n",
       "      <td>941</td>\n",
       "      <td>News</td>\n",
       "    </tr>\n",
       "    <tr>\n",
       "      <th>23752</th>\n",
       "      <td>Ukraine leader welcomes EU's extension of sanc...</td>\n",
       "      <td>NaN</td>\n",
       "      <td>NaN</td>\n",
       "      <td>NaN</td>\n",
       "      <td>14-Dec-17</td>\n",
       "      <td>Ukrainian President Petro Poroshenko said on T...</td>\n",
       "      <td>1</td>\n",
       "      <td>12264</td>\n",
       "      <td>worldnews</td>\n",
       "    </tr>\n",
       "    <tr>\n",
       "      <th>18964</th>\n",
       "      <td>DELEGATES FOR DUMMIES: How They’re Awarded…And...</td>\n",
       "      <td>NaN</td>\n",
       "      <td>NaN</td>\n",
       "      <td>NaN</td>\n",
       "      <td>2-Mar-16</td>\n",
       "      <td>Stop counting the votes! Your candidates nomin...</td>\n",
       "      <td>0</td>\n",
       "      <td>20929</td>\n",
       "      <td>left-news</td>\n",
       "    </tr>\n",
       "    <tr>\n",
       "      <th>5662</th>\n",
       "      <td>Iranian political activist shot dead in Nether...</td>\n",
       "      <td>NaN</td>\n",
       "      <td>NaN</td>\n",
       "      <td>NaN</td>\n",
       "      <td>9-Nov-17</td>\n",
       "      <td>A political activist who founded an Arab natio...</td>\n",
       "      <td>1</td>\n",
       "      <td>15253</td>\n",
       "      <td>worldnews</td>\n",
       "    </tr>\n",
       "    <tr>\n",
       "      <th>10780</th>\n",
       "      <td>Trump says concerns about Iran driving Israel,...</td>\n",
       "      <td>NaN</td>\n",
       "      <td>NaN</td>\n",
       "      <td>NaN</td>\n",
       "      <td>22-May-17</td>\n",
       "      <td>U.S. President Donald Trump said on Monday tha...</td>\n",
       "      <td>1</td>\n",
       "      <td>3647</td>\n",
       "      <td>politicsNews</td>\n",
       "    </tr>\n",
       "  </tbody>\n",
       "</table>\n",
       "</div>"
      ],
      "text/plain": [
       "                                                   title link source author  \\\n",
       "26921  Russia says Pyongyang wants direct talks with ...  NaN    NaN    NaN   \n",
       "29119          Timeline: Zika's origin and global spread  NaN    NaN    NaN   \n",
       "18528  Rick Scott Was So Butthurt By The Woman Who Ca...  NaN    NaN    NaN   \n",
       "7790   “Trumpocalypse”: HACKED EMAIL EXPOSES DEMOCRAT...  NaN    NaN    NaN   \n",
       "11738  NO RESPECT! US DIPLOMAT ATTACKED By Russian Gu...  NaN    NaN    NaN   \n",
       "10886  Rep. Maxine Waters Just Nailed Ben Carson To T...  NaN    NaN    NaN   \n",
       "23752  Ukraine leader welcomes EU's extension of sanc...  NaN    NaN    NaN   \n",
       "18964  DELEGATES FOR DUMMIES: How They’re Awarded…And...  NaN    NaN    NaN   \n",
       "5662   Iranian political activist shot dead in Nether...  NaN    NaN    NaN   \n",
       "10780  Trump says concerns about Iran driving Israel,...  NaN    NaN    NaN   \n",
       "\n",
       "            date                                               text  \\\n",
       "26921   7-Dec-17  Russian Foreign Minister Sergei Lavrov said on...   \n",
       "29119  11-Aug-16  80s: Zika detected in mosquitoes and monkeys a...   \n",
       "18528   9-Apr-16  Florida Governor Rick Scott isn t up for re-el...   \n",
       "7790    6-Jul-16  Let that sink in A major party in America is p...   \n",
       "11738  10-Jul-16  If you haven t seethe viral video of a takedow...   \n",
       "10886   3-Jul-17  Rep. Maxine Waters just called Housing and Urb...   \n",
       "23752  14-Dec-17  Ukrainian President Petro Poroshenko said on T...   \n",
       "18964   2-Mar-16  Stop counting the votes! Your candidates nomin...   \n",
       "5662    9-Nov-17  A political activist who founded an Arab natio...   \n",
       "10780  22-May-17  U.S. President Donald Trump said on Monday tha...   \n",
       "\n",
       "      classification     id          subject  \n",
       "26921              1  12825        worldnews  \n",
       "29119              1   8482     politicsNews  \n",
       "18528              0   7013             News  \n",
       "7790               0  20328        left-news  \n",
       "11738              0  16503  Government News  \n",
       "10886              0    941             News  \n",
       "23752              1  12264        worldnews  \n",
       "18964              0  20929        left-news  \n",
       "5662               1  15253        worldnews  \n",
       "10780              1   3647     politicsNews  "
      ]
     },
     "execution_count": 156,
     "metadata": {},
     "output_type": "execute_result"
    }
   ],
   "source": [
    "combined_dataset.sample(10)"
   ]
  },
  {
   "cell_type": "code",
   "execution_count": 158,
   "metadata": {},
   "outputs": [
    {
     "data": {
      "text/html": [
       "<div>\n",
       "<style scoped>\n",
       "    .dataframe tbody tr th:only-of-type {\n",
       "        vertical-align: middle;\n",
       "    }\n",
       "\n",
       "    .dataframe tbody tr th {\n",
       "        vertical-align: top;\n",
       "    }\n",
       "\n",
       "    .dataframe thead th {\n",
       "        text-align: right;\n",
       "    }\n",
       "</style>\n",
       "<table border=\"1\" class=\"dataframe\">\n",
       "  <thead>\n",
       "    <tr style=\"text-align: right;\">\n",
       "      <th></th>\n",
       "      <th>title</th>\n",
       "      <th>text</th>\n",
       "      <th>classification</th>\n",
       "    </tr>\n",
       "  </thead>\n",
       "  <tbody>\n",
       "    <tr>\n",
       "      <th>8272</th>\n",
       "      <td>Brazil Congress advances bill to curb party pr...</td>\n",
       "      <td>Brazil s lower house of Congress on Tuesday ga...</td>\n",
       "      <td>1</td>\n",
       "    </tr>\n",
       "    <tr>\n",
       "      <th>25358</th>\n",
       "      <td>FINALLY: Two Members Of Bundy Militia Arrested</td>\n",
       "      <td>For the last two weeks, armed domestic terrori...</td>\n",
       "      <td>0</td>\n",
       "    </tr>\n",
       "    <tr>\n",
       "      <th>27923</th>\n",
       "      <td>Emirates, Etihad boarding as usual after secon...</td>\n",
       "      <td>Passengers from six mainly Muslim countries wh...</td>\n",
       "      <td>1</td>\n",
       "    </tr>\n",
       "    <tr>\n",
       "      <th>20492</th>\n",
       "      <td>KATIE COURIC TWEETS Disgust After Two Of Her P...</td>\n",
       "      <td>Katie Couric took to Twitter to call out Charl...</td>\n",
       "      <td>0</td>\n",
       "    </tr>\n",
       "    <tr>\n",
       "      <th>19015</th>\n",
       "      <td>U.S. candidate Rubio: conditions not right for...</td>\n",
       "      <td>U.S. Republican presidential candidate Marco R...</td>\n",
       "      <td>1</td>\n",
       "    </tr>\n",
       "    <tr>\n",
       "      <th>5155</th>\n",
       "      <td>Police evacuate Bonn Christmas market, probe s...</td>\n",
       "      <td>Police brought in experts and an explosives ro...</td>\n",
       "      <td>1</td>\n",
       "    </tr>\n",
       "    <tr>\n",
       "      <th>2590</th>\n",
       "      <td>OPEN-BORDER LIBERALS Put Entire Nation On High...</td>\n",
       "      <td>Thank you Angela Merkel German security servic...</td>\n",
       "      <td>0</td>\n",
       "    </tr>\n",
       "    <tr>\n",
       "      <th>21106</th>\n",
       "      <td>Ugandan MPs get $8,000 each for work on extend...</td>\n",
       "      <td>Ugandan legislators have each pocketed 29 mill...</td>\n",
       "      <td>1</td>\n",
       "    </tr>\n",
       "    <tr>\n",
       "      <th>19287</th>\n",
       "      <td>AMBASSADOR JOHN BOLTON: Susan Rice Has “Real L...</td>\n",
       "      <td>Ambassador John Bolton was on Lou Dobbs tonigh...</td>\n",
       "      <td>0</td>\n",
       "    </tr>\n",
       "    <tr>\n",
       "      <th>11685</th>\n",
       "      <td>China confirms will amend party constitution, ...</td>\n",
       "      <td>China s ruling Communist Party has agreed to a...</td>\n",
       "      <td>1</td>\n",
       "    </tr>\n",
       "  </tbody>\n",
       "</table>\n",
       "</div>"
      ],
      "text/plain": [
       "                                                   title  \\\n",
       "8272   Brazil Congress advances bill to curb party pr...   \n",
       "25358     FINALLY: Two Members Of Bundy Militia Arrested   \n",
       "27923  Emirates, Etihad boarding as usual after secon...   \n",
       "20492  KATIE COURIC TWEETS Disgust After Two Of Her P...   \n",
       "19015  U.S. candidate Rubio: conditions not right for...   \n",
       "5155   Police evacuate Bonn Christmas market, probe s...   \n",
       "2590   OPEN-BORDER LIBERALS Put Entire Nation On High...   \n",
       "21106  Ugandan MPs get $8,000 each for work on extend...   \n",
       "19287  AMBASSADOR JOHN BOLTON: Susan Rice Has “Real L...   \n",
       "11685  China confirms will amend party constitution, ...   \n",
       "\n",
       "                                                    text classification  \n",
       "8272   Brazil s lower house of Congress on Tuesday ga...              1  \n",
       "25358  For the last two weeks, armed domestic terrori...              0  \n",
       "27923  Passengers from six mainly Muslim countries wh...              1  \n",
       "20492  Katie Couric took to Twitter to call out Charl...              0  \n",
       "19015  U.S. Republican presidential candidate Marco R...              1  \n",
       "5155   Police brought in experts and an explosives ro...              1  \n",
       "2590   Thank you Angela Merkel German security servic...              0  \n",
       "21106  Ugandan legislators have each pocketed 29 mill...              1  \n",
       "19287  Ambassador John Bolton was on Lou Dobbs tonigh...              0  \n",
       "11685  China s ruling Communist Party has agreed to a...              1  "
      ]
     },
     "execution_count": 158,
     "metadata": {},
     "output_type": "execute_result"
    }
   ],
   "source": [
    "cleaned_columns = ['title','text','classification']\n",
    "focused_data = combined_dataset.loc[:,cleaned_columns]\n",
    "\n",
    "focused_data.sample(10)"
   ]
  },
  {
   "cell_type": "code",
   "execution_count": 159,
   "metadata": {},
   "outputs": [
    {
     "data": {
      "text/plain": [
       "title              0\n",
       "text               3\n",
       "classification    16\n",
       "dtype: int64"
      ]
     },
     "execution_count": 159,
     "metadata": {},
     "output_type": "execute_result"
    }
   ],
   "source": [
    "focused_data.isnull().sum()"
   ]
  },
  {
   "cell_type": "code",
   "execution_count": 161,
   "metadata": {},
   "outputs": [
    {
     "data": {
      "text/plain": [
       "(30074, 3)"
      ]
     },
     "execution_count": 161,
     "metadata": {},
     "output_type": "execute_result"
    }
   ],
   "source": [
    "cleaned_dataset = focused_data.dropna()\n",
    "\n",
    "cleaned_dataset.shape"
   ]
  },
  {
   "cell_type": "code",
   "execution_count": 168,
   "metadata": {},
   "outputs": [
    {
     "data": {
      "text/plain": [
       "(30058, 3)"
      ]
     },
     "execution_count": 168,
     "metadata": {},
     "output_type": "execute_result"
    }
   ],
   "source": [
    "# Filter rows where classification is either '0' or '1'\n",
    "cleaned_dataset = cleaned_dataset[cleaned_dataset['classification'].isin(['0', '1'])]\n",
    "\n",
    "cleaned_dataset.shape"
   ]
  },
  {
   "cell_type": "code",
   "execution_count": 169,
   "metadata": {},
   "outputs": [
    {
     "name": "stdout",
     "output_type": "stream",
     "text": [
      "0        Istanbul mayor arrested ahead of selection to ...\n",
      "1        More than 50,000 killed in Gaza since Israel o...\n",
      "2        Ferrari's Hamilton disqualified from Chinese G...\n",
      "3        A life spent waiting - and searching rows of u...\n",
      "4        Istanbul mayor arrested ahead of selection to ...\n",
      "                               ...                        \n",
      "30088    U.S. aerospace industry urges Trump to help Ex...\n",
      "30089    Highlights: Hong Kong leader Carrie Lam delive...\n",
      "30090    Obama Literally LAUGHS At Claims That Brexit M...\n",
      "30091    Syrian army takes full control of Deir al-Zor ...\n",
      "30092    U.S., Israel sign $38 billion military aid pac...\n",
      "Name: content, Length: 30058, dtype: object\n"
     ]
    }
   ],
   "source": [
    "cleaned_dataset['content'] = cleaned_dataset['title'] + ' : ' + cleaned_dataset['text']\n",
    "print(cleaned_dataset['content'])"
   ]
  },
  {
   "cell_type": "markdown",
   "metadata": {},
   "source": [
    "## Stemming"
   ]
  },
  {
   "cell_type": "code",
   "execution_count": 170,
   "metadata": {},
   "outputs": [],
   "source": [
    "def stemming(content):\n",
    "    # remove non-alphabetic characters and tokenize\n",
    "    tokens = word_tokenize(re.sub(r'[^a-zA-Z]', ' ', content.lower()))\n",
    "    # stemming and remove stopwords\n",
    "    stemmed_tokens = [stemmer.stem(word) for word in tokens if word not in stop_words]\n",
    "    \n",
    "    return ' '.join(stemmed_tokens)"
   ]
  },
  {
   "cell_type": "code",
   "execution_count": 171,
   "metadata": {},
   "outputs": [],
   "source": [
    "cleaned_dataset.loc[:, 'content'] = cleaned_dataset['content'].apply(stemming)"
   ]
  },
  {
   "cell_type": "code",
   "execution_count": 172,
   "metadata": {},
   "outputs": [
    {
     "name": "stdout",
     "output_type": "stream",
     "text": [
      "                                                 content\n",
      "0      istanbul mayor arrest ahead select run erdogan...\n",
      "1      kill gaza sinc israel offens began hama run mi...\n",
      "2      ferrari hamilton disqualifi chines gp lewi ham...\n",
      "3      life spent wait search row unclaim bodi saira ...\n",
      "4      istanbul mayor arrest ahead select run erdogan...\n",
      "...                                                  ...\n",
      "30088  u aerospac industri urg trump help ex im bank ...\n",
      "30089  highlight hong kong leader carri lam deliv mai...\n",
      "30090  obama liter laugh claim brexit mean trump win ...\n",
      "30091  syrian armi take full control deir al zor isla...\n",
      "30092  u israel sign billion militari aid packag unit...\n",
      "\n",
      "[30058 rows x 1 columns]\n"
     ]
    }
   ],
   "source": [
    "print(cleaned_dataset[['content']])"
   ]
  },
  {
   "cell_type": "code",
   "execution_count": 173,
   "metadata": {},
   "outputs": [],
   "source": [
    "X = cleaned_dataset['text'].values\n",
    "Y = cleaned_dataset['classification'].values"
   ]
  },
  {
   "cell_type": "code",
   "execution_count": 174,
   "metadata": {},
   "outputs": [
    {
     "name": "stdout",
     "output_type": "stream",
     "text": [
      "['The main rival to Turkey\\'s President Recep Tayyip Erdogan has been formally arrested and charged with corruption.\\r\\n\\r\\nEkrem Imamoglu, the mayor of Istanbul, is expected to be selected as the opposition Republican People\\'s Party\\'s (CHP) 2028 presidential candidate in a ballot on Sunday.\\r\\n\\r\\nHe denies the allegations and says they are politically motivated. \"I will never bow,\" he wrote on X before he was remanded in custody.\\r\\n\\r\\nHis detention sparked some of Turkey\\'s largest protests in more than a decade. Erdogan has condemned the demonstrations and accused the CHP of trying to \"disturb the peace and polarise our people\".\\r\\n\\r\\nImamoglu was one of more than 100 people, including other politicians, journalists and businessmen, detained as part of an investigation on Wednesday, triggering four consecutive nights of demonstrations.\\r\\n\\r\\nOn Sunday, he was formally arrested and charged with \"establishing and managing a criminal organisation, taking bribes, extortion, unlawfully recording personal data and rigging a tender\".\\r\\n\\r\\nHe was remanded in custody pending trial. Local media reported he had been taken to Marmara Prison in Silivri.\\r\\n\\r\\nIn social media posts, Imamoglu criticised his arrest as a \"black stain on our democracy\", and said judicial procedure was not being followed.\\r\\n\\r\\nHe urged people across the country to join protests and to take part in Sunday\\'s vote. Imamoglu is the only person running in the CHP\\'s presidential candidate selection.\\r\\n\\r\\nProsecutors want to charge him with \"aiding an armed terrorist organisation\", but the Turkish court said it was \"not deemed necessary at this stage\" to do so.\\r\\n\\r\\nThe CHP had a de facto alliance with the pro-Kurdish Peoples\\' Equality and Democracy Party (DEM) in connection with last year\\'s local elections.\\r\\n\\r\\nDEM has been accused of being affiliated with the PKK - or Kurdistan Workers\\' Party - which it denies.\\r\\n\\r\\nThe PKK declared a ceasefire early this month, after waging an insurgency against Turkey for more than 40 years. It is proscribed as a terrorist group in Turkey, the EU, UK and US.\\r\\n\\r\\nImamoglu is seen as one of Erdogan\\'s most formidable political rivals.\\r\\n\\r\\nThe arrest does not prevent his candidacy and election as president. However, if he is convicted of any of the charges against him he would not be able to run.\\r\\n\\r\\nA day before his arrest, Istanbul University announced it was revoking Imamoglu\\'s degree due to alleged irregularities, a measure - which if upheld - would put his ability to run as president into doubt.\\r\\n\\r\\nAccording to the Turkish constitution, presidents must have completed higher education to hold office.\\r\\n\\r\\nImamoglu\\'s lawyers said they would appeal the decision to revoke his degree to the Constitutional Court and the European Court of Human Rights.\\r\\n\\r\\nThe Supreme Election Council will decide whether Imamoglu is qualified to be a candidate.\\r\\n\\r\\nErdogan has held office for the past 22 years, as both prime minister and president of Turkey.\\r\\n\\r\\nHowever, due to term limits, he cannot run for office again in 2028 unless he changes the constitution.\\r\\n\\r\\nOpposition figures say the arrests are politically motivated. But the Ministry of Justice has criticised those who link Erdogan to the arrests, and insist on its judicial independence.\\r\\n\\r\\nThousands have taken to the streets across Turkey in largely peaceful demonstrations.\\r\\n\\r\\nAuthorities tried to stifle demonstrations with a four-day ban on all gatherings in Istanbul, which was extended to Ankara and Izmir as the protests spread.\\r\\n\\r\\nRiot police have repeatedly clashed with protesters and could be seen firing pepper gas and water cannons towards crowds of demonstrators.\\r\\n\\r\\nTurkish authorities said 343 people were arrested on Friday night.\\r\\n\\r\\nOn Saturday, tear gas hung in the air outside the mayor\\'s office in Istanbul before the protests had even properly begun.\\r\\n\\r\\nAs the crowds had grown throughout the evening, it became hard to breathe as round after round was fired to disperse demonstrators.\\r\\n\\r\\nChanting \"rights, law, justice\", people of all ages defied the government ban to protest against what they see as an unlawful detention.\\r\\n\\r\\nOne young woman, dressed in black and wearing a face mask, told the BBC she was not protesting for political reasons or because she supported the opposition, but instead to defend democracy.\\r\\n\\r\\n\"I\\'m here for justice, I\\'m here for liberty. We\\'re free people and Turkish people cannot accept this. This is against our behaviour and culture.\"\\r\\n\\r\\nAnother woman, who had brought her 11-year-old son to the protests, said she wanted to include him because she is worried about his future.\\r\\n\\r\\n\"It\\'s getting harder to live in Turkey day by day, we can\\'t control our lives, we can\\'t choose who we want and there is no real justice here,\" she said.\\r\\n\\r\\n'\n",
      " \"More than 50,000 Palestinians have been killed during Israel's military campaign in Gaza, the territory's Hamas-run health ministry has announced.\\r\\n\\r\\nThat number - 50,021 - equates to about 2.1% of the 2.3 million pre-war population of the territory, or around 1 in 46 people.\\r\\n\\r\\nA total of 113,274 others had been injured in the same period, the health ministry said.\\r\\n\\r\\nFigures from the Gaza Ministry of Health (MoH) have been widely used throughout the war and are seen as reliable by the United Nations (UN) and international institutions. But Israel has consistently disputed data published by Gaza's authorities.\\r\\n\\r\\nInternational journalists, including the BBC, are blocked by Israel from entering Gaza independently, so are unable to verify figures from either side.\\r\\n\\r\\nThe figures released by the MoH for the number of people killed do not differentiate between civilians and fighters.\\r\\n\\r\\nIn November, the UN's Human Rights Office said its analysis showedclose to 70% of verified victims over a six-month period were women and children.\\r\\n\\r\\nIn January, The Lancet medical journal published a study which suggested thedeath toll could in fact be substantially higherthan official figures reported by MoH - by up to 41%.\\r\\n\\r\\nThe war was triggered by Hamas's attack on Israel on 7 October 2023, in which about 1,200 people, mainly civilians, were killed and 251 other taken hostage.\\r\\n\\r\\nIsrael responded to the 7 October attack with a massive military offensive, which has caused vast destruction to homes and infrastructure, in addition to those killed or injured.\\r\\n\\r\\nThe MoH also reported on Sunday at least 39 deaths in the last 24 hours, bringing the total number of people killed to 673 since Israel resumed its military operations in the territory on Tuesday.\\r\\n\\r\\n\"\n",
      " 'Lewis Hamilton finished sixth at the Chinese Grand Prix on Sunday\\r\\n\\r\\nLewis Hamilton has been disqualified from the Chinese Grand Prix for a technical infringement on his Ferrari.\\r\\n\\r\\nOne of the skid blocks on Hamilton\\'s car was found to be less than the required thickness after the race.\\r\\n\\r\\nHis team-mate Charles Leclerc and Alpine\\'s Pierre Gasly have also been disqualified, after their cars were both deemed underweight in post-race checks.\\r\\n\\r\\nHamilton loses his sixth-place finish in the main grand prix, following victory in the sprint race in Shanghai on Saturday, his first win for his new team.\\r\\n\\r\\nIn a statement, the Italian team said there was \"no intention to gain any advantage\".\\r\\n\\r\\nExplaining the disqualifications, Ferrari said Leclerc\\'s high tyre wear due to his one-stop race strategy had caused the weight breach, while they had \"misjudged the consumption by a small margin\" in regard to Hamilton\\'s skid wear.\\r\\n\\r\\n\"We will learn from what happened today and make sure we don\\'t make the same mistakes again,\" the statement added.\\r\\n\\r\\nMonegasque Leclerc was fifth, while Frenchman Gasly was 11th.\\r\\n\\r\\nFormula 1 cars have skid blocks in the floor that are meant to ensure that the car maintains a certain ride height and does not run too low.\\r\\n\\r\\nThe skids are situated in the underfloor wooden plank, which also has a minimum depth for the same reason.\\r\\n\\r\\nIf one is worn too much, it confers a potential performance advantage caused by the car being able to run lower than would otherwise have been possible.\\r\\n\\r\\nHamilton was disqualified from the 2023 United States Grand Prix for a similar issue when he was driving for Mercedes.\\r\\n\\r\\nWatch: What are planks used for and how are they measured?,external\\r\\n\\r\\n1. Oscar Piastri (McLaren)\\r\\n\\r\\n2. Lando Norris (McLaren)\\r\\n\\r\\n3. George Russell (Mercedes)\\r\\n\\r\\n4. Max Verstappen (Red Bull)\\r\\n\\r\\n5. Esteban Ocon (Haas)\\r\\n\\r\\n6. Kimi Antonelli (Mercedes)\\r\\n\\r\\n7. Alex Albon (Williams)\\r\\n\\r\\n8. Oliver Bearman (Haas)\\r\\n\\r\\n9. Lance Stroll (Aston Martin)\\r\\n\\r\\n10. Carlos Sainz (Williams)\\r\\n\\r\\nPiastri leads Norris to McLaren one-two in China\\r\\n\\r\\nHamilton hits out at \\'yapping\\' critics after China sprint win\\r\\n\\r\\n'\n",
      " ...\n",
      " 'If there s one thing President Barack Obama isn t threatened by, it s Donald Trump.After the Brexit decision, in which the United Kingdom voted to leave the European Union, many Americans were left upset and afraid that what had happened overseas could be a sign that Trump might actually win the election. Trump himself has definitely played up those fears in his statements following the decision by making statements such as,  I really see a parallel between what is happening here and in the U.S.  and voters  will have the chance to re-declare their independence  in November. Luckily, Obama is setting the record straight.In an interview with NPR s Steve Inskeep, it was clear that Obama wanted Americans to know that there were distinct differences between America and Britain, and that the Brexit vote wasn t a warning about what might happen in November. In fact, Obama was confident enough to actually laugh when Inskeep asked him about Trump s statement that Americans will be able to reject  the global elite  in the general election. Obama took a swipe at the billionaire business mogul: Mr. Trump embodies global elites and has taken full advantage of it his entire life. So, he s hardly a spokesperson, a legitimate spokesperson for a populist surge of working-class people on either side of the Atlantic. Obama urged Americans to stay calm, saying that he didn t think Brexit would lead to any  major, cataclysmic changes.  He said: I think that the best way to think about this is, a pause button has been pressed on the project of full European integration. I would not overstate it. There s been a little bit of hysteria post-Brexit vote, as if somehow NATO s gone, the trans-Atlantic alliance is dissolving, and every country is rushing off to its own corner. That s not what s happening. Obama stated that the U.S. and Europe still have similar international interests. He said: The basic core values of Europe, the tenants of liberal market-based democracies; those aren t changing. The interests we have with Europe remain the same, and our concerns internationally remain the same, so Europe can t afford to turn in. Trump might want to sit down, and shut up. You can watch Obama s interview below:Featured image via Pete Souza, Official White House Photographer'\n",
      " 'The Syrian army and its allies have taken full control of Deir al-Zor city from Islamic State, the largest and most important city in eastern Syria, the Syrian Observatory for Human Rights said on Thursday. There was no immediate comment from Syrian state media, but a commander in a military alliance fighting in support of Damascus said that while advances had been made, some IS-held pockets still remained in the city. The Syrian army launched its attack against Islamic State there in September, backed by Russian air strikes and fighting alongside Iran-backed militias and the Lebanese Shi ite group Hezbollah. The Islamist group had held most of the city since 2014, except for one large pocket where Syrian army troops and 93,000 civilians had been holed up for three years. The provincial capital is located on the western side of the Euphrates River. The Syrian Democratic Forces (SDF), backed by the U.S.-led coalition, launched their own attack on Islamic State in the province in September, advancing along the eastern side of the river. The city s strategic significance for Islamic State stemmed from its location near the Iraqi border, where the group also controlled territory, as well as its importance as the oil-producing province s capital. The recovery of the eastern province s capital underscores President Bashar al Assad s re-established control over the eastern part of Syria. As the army has pushed east in recent months, oil and gas fields have once more fallen to the government, as well as to the SDF. Islamic State still controls parts of Deir al-Zor province, its territory extending across the border to neighboring Iraq where Iraqi forces are waging a separate offensive against the militant group. The Islamist group also controls a small pocket in Hama province in western Syria, and a besieged enclave south of Damascus where it is fighting rebel factions. The Syrian army is also advancing on Albu Kamal city in Deir al-Zor province, located on the Iraqi-Syrian border. Russian bombers struck Islamic State targets in the border town on Thursday, RIA news agency reported.'\n",
      " 'The United States will give Israel $38 billion in military assistance over the next decade, the largest such aid package in U.S. history, under a landmark agreement signed on Wednesday. The deal, whose details were reported by Reuters earlier, will allow Washington’s chief Middle East ally to upgrade most of its fighter aircraft, improve its ground forces’ mobility and strengthen its missile defense systems, a senior U.S. official said. While the package constitutes the most U.S. military aid ever given to any country, it entails concessions by Israeli Prime Minister Benjamin Netanyahu, according to officials on both sides. Those include Israel’s promise not to seek additional funds from Congress beyond what will be guaranteed annually in the new package, and to phase out a special arrangement that has allowed Israel to spend part of its U.S. aid on its own defense industry instead of on American-made weapons, the officials said. Nearly 10 months of drawn-out aid negotiations underscored continuing friction between President Barack Obama and Netanyahu over last year’s U.S.-led nuclear deal with Israel’s arch-foe Iran, an accord the Israeli leader opposed. The United States and Israel have also been at odds over the Palestinians. But the right-wing Netanyahu decided it would be best to forge a new arrangement with Obama, who leaves office in January, rather than hoping for better terms from the next U.S. administration, according to officials on both sides. A new pact now allows him to avoid uncertainties surrounding the next president, whether Democrat Hillary Clinton or Republican Donald Trump, and to give Israel’s defense establishment the ability to plan ahead. Obama’s aides wanted a new deal before his presidency ends, seeing it as an important part of his legacy. Republican critics accuse him of not being attentive enough to Israel’s security, which the White House strongly denies, and of taking too hard of a line with the Israeli leader. The $38 billion memorandum of understanding covers U.S. fiscal years 2019-2028 and succeeds the current $30 billion MOU signed in 2007, which expires at the end of fiscal 2018. “Prime Minister Netanyahu and I are confident that the new MOU will make a significant contribution to Israel’s security in what remains a dangerous neighborhood,” Obama said in a written statement. The agreement was signed at the State Department by U.S. Undersecretary of State Thomas Shannon and by Jacob Nagel, acting head of Netanyahu’s national security council. According to a White House “fact sheet,” the deal includes: -annual payments of $3.3 billion in so-called foreign military financing -$500 million a year for Israeli missile defense funding, the first time this has been formally built into the aid pact. -A phasing-out of a special arrangement that for decades has allowed Israel to use 26.3 percent of the U.S. aid on its own defense industry instead of on American-made weapons. -Elimination of a longstanding provision that has allowed Israel to use about 13 percent of the U.S. aid to buy military fuel. -The funding will allow Israel to update “the lion’s share” of its fighter aircraft, including purchasing additional F-35 Joint Strike Fighters. Israel is scheduled to receive 33 F-35 aircraft, the first two of which will be delivered in December.']\n"
     ]
    }
   ],
   "source": [
    "print(X)"
   ]
  },
  {
   "cell_type": "code",
   "execution_count": 175,
   "metadata": {},
   "outputs": [
    {
     "name": "stdout",
     "output_type": "stream",
     "text": [
      "['1' '1' '1' ... '0' '1' '1']\n"
     ]
    }
   ],
   "source": [
    "print(Y)"
   ]
  },
  {
   "cell_type": "code",
   "execution_count": 176,
   "metadata": {},
   "outputs": [],
   "source": [
    "# converting the textual data to numerical data\n",
    "vectorizer = TfidfVectorizer()\n",
    "X = vectorizer.fit_transform(cleaned_dataset['content']).toarray()\n",
    "y = cleaned_dataset['classification']"
   ]
  },
  {
   "cell_type": "code",
   "execution_count": 177,
   "metadata": {},
   "outputs": [],
   "source": [
    "X_train, X_test, y_train, y_test = train_test_split(X, y, test_size=0.2, random_state=42)"
   ]
  },
  {
   "cell_type": "code",
   "execution_count": 183,
   "metadata": {},
   "outputs": [
    {
     "data": {
      "text/html": [
       "<style>#sk-container-id-2 {\n",
       "  /* Definition of color scheme common for light and dark mode */\n",
       "  --sklearn-color-text: #000;\n",
       "  --sklearn-color-text-muted: #666;\n",
       "  --sklearn-color-line: gray;\n",
       "  /* Definition of color scheme for unfitted estimators */\n",
       "  --sklearn-color-unfitted-level-0: #fff5e6;\n",
       "  --sklearn-color-unfitted-level-1: #f6e4d2;\n",
       "  --sklearn-color-unfitted-level-2: #ffe0b3;\n",
       "  --sklearn-color-unfitted-level-3: chocolate;\n",
       "  /* Definition of color scheme for fitted estimators */\n",
       "  --sklearn-color-fitted-level-0: #f0f8ff;\n",
       "  --sklearn-color-fitted-level-1: #d4ebff;\n",
       "  --sklearn-color-fitted-level-2: #b3dbfd;\n",
       "  --sklearn-color-fitted-level-3: cornflowerblue;\n",
       "\n",
       "  /* Specific color for light theme */\n",
       "  --sklearn-color-text-on-default-background: var(--sg-text-color, var(--theme-code-foreground, var(--jp-content-font-color1, black)));\n",
       "  --sklearn-color-background: var(--sg-background-color, var(--theme-background, var(--jp-layout-color0, white)));\n",
       "  --sklearn-color-border-box: var(--sg-text-color, var(--theme-code-foreground, var(--jp-content-font-color1, black)));\n",
       "  --sklearn-color-icon: #696969;\n",
       "\n",
       "  @media (prefers-color-scheme: dark) {\n",
       "    /* Redefinition of color scheme for dark theme */\n",
       "    --sklearn-color-text-on-default-background: var(--sg-text-color, var(--theme-code-foreground, var(--jp-content-font-color1, white)));\n",
       "    --sklearn-color-background: var(--sg-background-color, var(--theme-background, var(--jp-layout-color0, #111)));\n",
       "    --sklearn-color-border-box: var(--sg-text-color, var(--theme-code-foreground, var(--jp-content-font-color1, white)));\n",
       "    --sklearn-color-icon: #878787;\n",
       "  }\n",
       "}\n",
       "\n",
       "#sk-container-id-2 {\n",
       "  color: var(--sklearn-color-text);\n",
       "}\n",
       "\n",
       "#sk-container-id-2 pre {\n",
       "  padding: 0;\n",
       "}\n",
       "\n",
       "#sk-container-id-2 input.sk-hidden--visually {\n",
       "  border: 0;\n",
       "  clip: rect(1px 1px 1px 1px);\n",
       "  clip: rect(1px, 1px, 1px, 1px);\n",
       "  height: 1px;\n",
       "  margin: -1px;\n",
       "  overflow: hidden;\n",
       "  padding: 0;\n",
       "  position: absolute;\n",
       "  width: 1px;\n",
       "}\n",
       "\n",
       "#sk-container-id-2 div.sk-dashed-wrapped {\n",
       "  border: 1px dashed var(--sklearn-color-line);\n",
       "  margin: 0 0.4em 0.5em 0.4em;\n",
       "  box-sizing: border-box;\n",
       "  padding-bottom: 0.4em;\n",
       "  background-color: var(--sklearn-color-background);\n",
       "}\n",
       "\n",
       "#sk-container-id-2 div.sk-container {\n",
       "  /* jupyter's `normalize.less` sets `[hidden] { display: none; }`\n",
       "     but bootstrap.min.css set `[hidden] { display: none !important; }`\n",
       "     so we also need the `!important` here to be able to override the\n",
       "     default hidden behavior on the sphinx rendered scikit-learn.org.\n",
       "     See: https://github.com/scikit-learn/scikit-learn/issues/21755 */\n",
       "  display: inline-block !important;\n",
       "  position: relative;\n",
       "}\n",
       "\n",
       "#sk-container-id-2 div.sk-text-repr-fallback {\n",
       "  display: none;\n",
       "}\n",
       "\n",
       "div.sk-parallel-item,\n",
       "div.sk-serial,\n",
       "div.sk-item {\n",
       "  /* draw centered vertical line to link estimators */\n",
       "  background-image: linear-gradient(var(--sklearn-color-text-on-default-background), var(--sklearn-color-text-on-default-background));\n",
       "  background-size: 2px 100%;\n",
       "  background-repeat: no-repeat;\n",
       "  background-position: center center;\n",
       "}\n",
       "\n",
       "/* Parallel-specific style estimator block */\n",
       "\n",
       "#sk-container-id-2 div.sk-parallel-item::after {\n",
       "  content: \"\";\n",
       "  width: 100%;\n",
       "  border-bottom: 2px solid var(--sklearn-color-text-on-default-background);\n",
       "  flex-grow: 1;\n",
       "}\n",
       "\n",
       "#sk-container-id-2 div.sk-parallel {\n",
       "  display: flex;\n",
       "  align-items: stretch;\n",
       "  justify-content: center;\n",
       "  background-color: var(--sklearn-color-background);\n",
       "  position: relative;\n",
       "}\n",
       "\n",
       "#sk-container-id-2 div.sk-parallel-item {\n",
       "  display: flex;\n",
       "  flex-direction: column;\n",
       "}\n",
       "\n",
       "#sk-container-id-2 div.sk-parallel-item:first-child::after {\n",
       "  align-self: flex-end;\n",
       "  width: 50%;\n",
       "}\n",
       "\n",
       "#sk-container-id-2 div.sk-parallel-item:last-child::after {\n",
       "  align-self: flex-start;\n",
       "  width: 50%;\n",
       "}\n",
       "\n",
       "#sk-container-id-2 div.sk-parallel-item:only-child::after {\n",
       "  width: 0;\n",
       "}\n",
       "\n",
       "/* Serial-specific style estimator block */\n",
       "\n",
       "#sk-container-id-2 div.sk-serial {\n",
       "  display: flex;\n",
       "  flex-direction: column;\n",
       "  align-items: center;\n",
       "  background-color: var(--sklearn-color-background);\n",
       "  padding-right: 1em;\n",
       "  padding-left: 1em;\n",
       "}\n",
       "\n",
       "\n",
       "/* Toggleable style: style used for estimator/Pipeline/ColumnTransformer box that is\n",
       "clickable and can be expanded/collapsed.\n",
       "- Pipeline and ColumnTransformer use this feature and define the default style\n",
       "- Estimators will overwrite some part of the style using the `sk-estimator` class\n",
       "*/\n",
       "\n",
       "/* Pipeline and ColumnTransformer style (default) */\n",
       "\n",
       "#sk-container-id-2 div.sk-toggleable {\n",
       "  /* Default theme specific background. It is overwritten whether we have a\n",
       "  specific estimator or a Pipeline/ColumnTransformer */\n",
       "  background-color: var(--sklearn-color-background);\n",
       "}\n",
       "\n",
       "/* Toggleable label */\n",
       "#sk-container-id-2 label.sk-toggleable__label {\n",
       "  cursor: pointer;\n",
       "  display: flex;\n",
       "  width: 100%;\n",
       "  margin-bottom: 0;\n",
       "  padding: 0.5em;\n",
       "  box-sizing: border-box;\n",
       "  text-align: center;\n",
       "  align-items: start;\n",
       "  justify-content: space-between;\n",
       "  gap: 0.5em;\n",
       "}\n",
       "\n",
       "#sk-container-id-2 label.sk-toggleable__label .caption {\n",
       "  font-size: 0.6rem;\n",
       "  font-weight: lighter;\n",
       "  color: var(--sklearn-color-text-muted);\n",
       "}\n",
       "\n",
       "#sk-container-id-2 label.sk-toggleable__label-arrow:before {\n",
       "  /* Arrow on the left of the label */\n",
       "  content: \"▸\";\n",
       "  float: left;\n",
       "  margin-right: 0.25em;\n",
       "  color: var(--sklearn-color-icon);\n",
       "}\n",
       "\n",
       "#sk-container-id-2 label.sk-toggleable__label-arrow:hover:before {\n",
       "  color: var(--sklearn-color-text);\n",
       "}\n",
       "\n",
       "/* Toggleable content - dropdown */\n",
       "\n",
       "#sk-container-id-2 div.sk-toggleable__content {\n",
       "  max-height: 0;\n",
       "  max-width: 0;\n",
       "  overflow: hidden;\n",
       "  text-align: left;\n",
       "  /* unfitted */\n",
       "  background-color: var(--sklearn-color-unfitted-level-0);\n",
       "}\n",
       "\n",
       "#sk-container-id-2 div.sk-toggleable__content.fitted {\n",
       "  /* fitted */\n",
       "  background-color: var(--sklearn-color-fitted-level-0);\n",
       "}\n",
       "\n",
       "#sk-container-id-2 div.sk-toggleable__content pre {\n",
       "  margin: 0.2em;\n",
       "  border-radius: 0.25em;\n",
       "  color: var(--sklearn-color-text);\n",
       "  /* unfitted */\n",
       "  background-color: var(--sklearn-color-unfitted-level-0);\n",
       "}\n",
       "\n",
       "#sk-container-id-2 div.sk-toggleable__content.fitted pre {\n",
       "  /* unfitted */\n",
       "  background-color: var(--sklearn-color-fitted-level-0);\n",
       "}\n",
       "\n",
       "#sk-container-id-2 input.sk-toggleable__control:checked~div.sk-toggleable__content {\n",
       "  /* Expand drop-down */\n",
       "  max-height: 200px;\n",
       "  max-width: 100%;\n",
       "  overflow: auto;\n",
       "}\n",
       "\n",
       "#sk-container-id-2 input.sk-toggleable__control:checked~label.sk-toggleable__label-arrow:before {\n",
       "  content: \"▾\";\n",
       "}\n",
       "\n",
       "/* Pipeline/ColumnTransformer-specific style */\n",
       "\n",
       "#sk-container-id-2 div.sk-label input.sk-toggleable__control:checked~label.sk-toggleable__label {\n",
       "  color: var(--sklearn-color-text);\n",
       "  background-color: var(--sklearn-color-unfitted-level-2);\n",
       "}\n",
       "\n",
       "#sk-container-id-2 div.sk-label.fitted input.sk-toggleable__control:checked~label.sk-toggleable__label {\n",
       "  background-color: var(--sklearn-color-fitted-level-2);\n",
       "}\n",
       "\n",
       "/* Estimator-specific style */\n",
       "\n",
       "/* Colorize estimator box */\n",
       "#sk-container-id-2 div.sk-estimator input.sk-toggleable__control:checked~label.sk-toggleable__label {\n",
       "  /* unfitted */\n",
       "  background-color: var(--sklearn-color-unfitted-level-2);\n",
       "}\n",
       "\n",
       "#sk-container-id-2 div.sk-estimator.fitted input.sk-toggleable__control:checked~label.sk-toggleable__label {\n",
       "  /* fitted */\n",
       "  background-color: var(--sklearn-color-fitted-level-2);\n",
       "}\n",
       "\n",
       "#sk-container-id-2 div.sk-label label.sk-toggleable__label,\n",
       "#sk-container-id-2 div.sk-label label {\n",
       "  /* The background is the default theme color */\n",
       "  color: var(--sklearn-color-text-on-default-background);\n",
       "}\n",
       "\n",
       "/* On hover, darken the color of the background */\n",
       "#sk-container-id-2 div.sk-label:hover label.sk-toggleable__label {\n",
       "  color: var(--sklearn-color-text);\n",
       "  background-color: var(--sklearn-color-unfitted-level-2);\n",
       "}\n",
       "\n",
       "/* Label box, darken color on hover, fitted */\n",
       "#sk-container-id-2 div.sk-label.fitted:hover label.sk-toggleable__label.fitted {\n",
       "  color: var(--sklearn-color-text);\n",
       "  background-color: var(--sklearn-color-fitted-level-2);\n",
       "}\n",
       "\n",
       "/* Estimator label */\n",
       "\n",
       "#sk-container-id-2 div.sk-label label {\n",
       "  font-family: monospace;\n",
       "  font-weight: bold;\n",
       "  display: inline-block;\n",
       "  line-height: 1.2em;\n",
       "}\n",
       "\n",
       "#sk-container-id-2 div.sk-label-container {\n",
       "  text-align: center;\n",
       "}\n",
       "\n",
       "/* Estimator-specific */\n",
       "#sk-container-id-2 div.sk-estimator {\n",
       "  font-family: monospace;\n",
       "  border: 1px dotted var(--sklearn-color-border-box);\n",
       "  border-radius: 0.25em;\n",
       "  box-sizing: border-box;\n",
       "  margin-bottom: 0.5em;\n",
       "  /* unfitted */\n",
       "  background-color: var(--sklearn-color-unfitted-level-0);\n",
       "}\n",
       "\n",
       "#sk-container-id-2 div.sk-estimator.fitted {\n",
       "  /* fitted */\n",
       "  background-color: var(--sklearn-color-fitted-level-0);\n",
       "}\n",
       "\n",
       "/* on hover */\n",
       "#sk-container-id-2 div.sk-estimator:hover {\n",
       "  /* unfitted */\n",
       "  background-color: var(--sklearn-color-unfitted-level-2);\n",
       "}\n",
       "\n",
       "#sk-container-id-2 div.sk-estimator.fitted:hover {\n",
       "  /* fitted */\n",
       "  background-color: var(--sklearn-color-fitted-level-2);\n",
       "}\n",
       "\n",
       "/* Specification for estimator info (e.g. \"i\" and \"?\") */\n",
       "\n",
       "/* Common style for \"i\" and \"?\" */\n",
       "\n",
       ".sk-estimator-doc-link,\n",
       "a:link.sk-estimator-doc-link,\n",
       "a:visited.sk-estimator-doc-link {\n",
       "  float: right;\n",
       "  font-size: smaller;\n",
       "  line-height: 1em;\n",
       "  font-family: monospace;\n",
       "  background-color: var(--sklearn-color-background);\n",
       "  border-radius: 1em;\n",
       "  height: 1em;\n",
       "  width: 1em;\n",
       "  text-decoration: none !important;\n",
       "  margin-left: 0.5em;\n",
       "  text-align: center;\n",
       "  /* unfitted */\n",
       "  border: var(--sklearn-color-unfitted-level-1) 1pt solid;\n",
       "  color: var(--sklearn-color-unfitted-level-1);\n",
       "}\n",
       "\n",
       ".sk-estimator-doc-link.fitted,\n",
       "a:link.sk-estimator-doc-link.fitted,\n",
       "a:visited.sk-estimator-doc-link.fitted {\n",
       "  /* fitted */\n",
       "  border: var(--sklearn-color-fitted-level-1) 1pt solid;\n",
       "  color: var(--sklearn-color-fitted-level-1);\n",
       "}\n",
       "\n",
       "/* On hover */\n",
       "div.sk-estimator:hover .sk-estimator-doc-link:hover,\n",
       ".sk-estimator-doc-link:hover,\n",
       "div.sk-label-container:hover .sk-estimator-doc-link:hover,\n",
       ".sk-estimator-doc-link:hover {\n",
       "  /* unfitted */\n",
       "  background-color: var(--sklearn-color-unfitted-level-3);\n",
       "  color: var(--sklearn-color-background);\n",
       "  text-decoration: none;\n",
       "}\n",
       "\n",
       "div.sk-estimator.fitted:hover .sk-estimator-doc-link.fitted:hover,\n",
       ".sk-estimator-doc-link.fitted:hover,\n",
       "div.sk-label-container:hover .sk-estimator-doc-link.fitted:hover,\n",
       ".sk-estimator-doc-link.fitted:hover {\n",
       "  /* fitted */\n",
       "  background-color: var(--sklearn-color-fitted-level-3);\n",
       "  color: var(--sklearn-color-background);\n",
       "  text-decoration: none;\n",
       "}\n",
       "\n",
       "/* Span, style for the box shown on hovering the info icon */\n",
       ".sk-estimator-doc-link span {\n",
       "  display: none;\n",
       "  z-index: 9999;\n",
       "  position: relative;\n",
       "  font-weight: normal;\n",
       "  right: .2ex;\n",
       "  padding: .5ex;\n",
       "  margin: .5ex;\n",
       "  width: min-content;\n",
       "  min-width: 20ex;\n",
       "  max-width: 50ex;\n",
       "  color: var(--sklearn-color-text);\n",
       "  box-shadow: 2pt 2pt 4pt #999;\n",
       "  /* unfitted */\n",
       "  background: var(--sklearn-color-unfitted-level-0);\n",
       "  border: .5pt solid var(--sklearn-color-unfitted-level-3);\n",
       "}\n",
       "\n",
       ".sk-estimator-doc-link.fitted span {\n",
       "  /* fitted */\n",
       "  background: var(--sklearn-color-fitted-level-0);\n",
       "  border: var(--sklearn-color-fitted-level-3);\n",
       "}\n",
       "\n",
       ".sk-estimator-doc-link:hover span {\n",
       "  display: block;\n",
       "}\n",
       "\n",
       "/* \"?\"-specific style due to the `<a>` HTML tag */\n",
       "\n",
       "#sk-container-id-2 a.estimator_doc_link {\n",
       "  float: right;\n",
       "  font-size: 1rem;\n",
       "  line-height: 1em;\n",
       "  font-family: monospace;\n",
       "  background-color: var(--sklearn-color-background);\n",
       "  border-radius: 1rem;\n",
       "  height: 1rem;\n",
       "  width: 1rem;\n",
       "  text-decoration: none;\n",
       "  /* unfitted */\n",
       "  color: var(--sklearn-color-unfitted-level-1);\n",
       "  border: var(--sklearn-color-unfitted-level-1) 1pt solid;\n",
       "}\n",
       "\n",
       "#sk-container-id-2 a.estimator_doc_link.fitted {\n",
       "  /* fitted */\n",
       "  border: var(--sklearn-color-fitted-level-1) 1pt solid;\n",
       "  color: var(--sklearn-color-fitted-level-1);\n",
       "}\n",
       "\n",
       "/* On hover */\n",
       "#sk-container-id-2 a.estimator_doc_link:hover {\n",
       "  /* unfitted */\n",
       "  background-color: var(--sklearn-color-unfitted-level-3);\n",
       "  color: var(--sklearn-color-background);\n",
       "  text-decoration: none;\n",
       "}\n",
       "\n",
       "#sk-container-id-2 a.estimator_doc_link.fitted:hover {\n",
       "  /* fitted */\n",
       "  background-color: var(--sklearn-color-fitted-level-3);\n",
       "}\n",
       "</style><div id=\"sk-container-id-2\" class=\"sk-top-container\"><div class=\"sk-text-repr-fallback\"><pre>KNeighborsClassifier()</pre><b>In a Jupyter environment, please rerun this cell to show the HTML representation or trust the notebook. <br />On GitHub, the HTML representation is unable to render, please try loading this page with nbviewer.org.</b></div><div class=\"sk-container\" hidden><div class=\"sk-item\"><div class=\"sk-estimator fitted sk-toggleable\"><input class=\"sk-toggleable__control sk-hidden--visually\" id=\"sk-estimator-id-2\" type=\"checkbox\" checked><label for=\"sk-estimator-id-2\" class=\"sk-toggleable__label fitted sk-toggleable__label-arrow\"><div><div>KNeighborsClassifier</div></div><div><a class=\"sk-estimator-doc-link fitted\" rel=\"noreferrer\" target=\"_blank\" href=\"https://scikit-learn.org/1.6/modules/generated/sklearn.neighbors.KNeighborsClassifier.html\">?<span>Documentation for KNeighborsClassifier</span></a><span class=\"sk-estimator-doc-link fitted\">i<span>Fitted</span></span></div></label><div class=\"sk-toggleable__content fitted\"><pre>KNeighborsClassifier()</pre></div> </div></div></div></div>"
      ],
      "text/plain": [
       "KNeighborsClassifier()"
      ]
     },
     "execution_count": 183,
     "metadata": {},
     "output_type": "execute_result"
    }
   ],
   "source": [
    "knn = KNeighborsClassifier(n_neighbors=5)\n",
    "knn.fit(X_train, y_train)"
   ]
  },
  {
   "cell_type": "code",
   "execution_count": 184,
   "metadata": {},
   "outputs": [],
   "source": [
    "y_pred = knn.predict(X_test)"
   ]
  },
  {
   "cell_type": "markdown",
   "metadata": {},
   "source": [
    "## Evaluation"
   ]
  },
  {
   "cell_type": "code",
   "execution_count": 185,
   "metadata": {},
   "outputs": [
    {
     "name": "stdout",
     "output_type": "stream",
     "text": [
      "Accuracy of KNN model: 85.99%\n"
     ]
    }
   ],
   "source": [
    "accuracy = accuracy_score(y_test, y_pred)\n",
    "\n",
    "print(f\"Accuracy of KNN model: {accuracy * 100:.2f}%\")"
   ]
  }
 ],
 "metadata": {
  "kernelspec": {
   "display_name": "Python 3",
   "language": "python",
   "name": "python3"
  },
  "language_info": {
   "codemirror_mode": {
    "name": "ipython",
    "version": 3
   },
   "file_extension": ".py",
   "mimetype": "text/x-python",
   "name": "python",
   "nbconvert_exporter": "python",
   "pygments_lexer": "ipython3",
   "version": "3.11.5"
  }
 },
 "nbformat": 4,
 "nbformat_minor": 2
}
