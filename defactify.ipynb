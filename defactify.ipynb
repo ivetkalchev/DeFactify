{
 "cells": [
  {
   "cell_type": "markdown",
   "metadata": {},
   "source": [
    "# DeFactify 📰\n",
    "\n",
    "First, lets import the libraries."
   ]
  },
  {
   "cell_type": "code",
   "execution_count": 1,
   "metadata": {},
   "outputs": [
    {
     "name": "stdout",
     "output_type": "stream",
     "text": [
      "scikit-learn version: 1.6.1\n",
      "pandas version: 2.2.3\n",
      "seaborn version: 0.13.2\n",
      "nltk version: 3.9.1\n"
     ]
    }
   ],
   "source": [
    "import sklearn\n",
    "import pandas\n",
    "import seaborn\n",
    "import nltk\n",
    "\n",
    "from nltk.corpus import stopwords\n",
    "from nltk.stem import PorterStemmer\n",
    "from nltk.tokenize import word_tokenize\n",
    "\n",
    "from sklearn.feature_extraction.text import TfidfVectorizer\n",
    "from sklearn.model_selection import train_test_split\n",
    "from sklearn.neighbors import KNeighborsClassifier\n",
    "from sklearn.metrics import accuracy_score\n",
    "\n",
    "print(\"scikit-learn version:\", sklearn.__version__)  # 1.6.1\n",
    "print(\"pandas version:\", pandas.__version__)         # 2.2.3\n",
    "print(\"seaborn version:\", seaborn.__version__)       # 0.13.2\n",
    "print(\"nltk version:\", nltk.__version__)             # 3.9.1"
   ]
  },
  {
   "cell_type": "markdown",
   "metadata": {},
   "source": [
    "## Importing stopwords\n",
    "\n",
    "This package will help us filter out the unnecessary words in the contents of the articles."
   ]
  },
  {
   "cell_type": "code",
   "execution_count": 2,
   "metadata": {},
   "outputs": [
    {
     "name": "stderr",
     "output_type": "stream",
     "text": [
      "[nltk_data] Downloading package stopwords to\n",
      "[nltk_data]     C:\\Users\\ivetk\\AppData\\Roaming\\nltk_data...\n",
      "[nltk_data]   Package stopwords is already up-to-date!\n"
     ]
    },
    {
     "data": {
      "text/plain": [
       "True"
      ]
     },
     "execution_count": 2,
     "metadata": {},
     "output_type": "execute_result"
    }
   ],
   "source": [
    "nltk.download('stopwords')"
   ]
  },
  {
   "cell_type": "code",
   "execution_count": 3,
   "metadata": {},
   "outputs": [
    {
     "name": "stdout",
     "output_type": "stream",
     "text": [
      "['a', 'about', 'above', 'after', 'again', 'against', 'ain', 'all', 'am', 'an', 'and', 'any', 'are', 'aren', \"aren't\", 'as', 'at', 'be', 'because', 'been', 'before', 'being', 'below', 'between', 'both', 'but', 'by', 'can', 'couldn', \"couldn't\", 'd', 'did', 'didn', \"didn't\", 'do', 'does', 'doesn', \"doesn't\", 'doing', 'don', \"don't\", 'down', 'during', 'each', 'few', 'for', 'from', 'further', 'had', 'hadn', \"hadn't\", 'has', 'hasn', \"hasn't\", 'have', 'haven', \"haven't\", 'having', 'he', \"he'd\", \"he'll\", 'her', 'here', 'hers', 'herself', \"he's\", 'him', 'himself', 'his', 'how', 'i', \"i'd\", 'if', \"i'll\", \"i'm\", 'in', 'into', 'is', 'isn', \"isn't\", 'it', \"it'd\", \"it'll\", \"it's\", 'its', 'itself', \"i've\", 'just', 'll', 'm', 'ma', 'me', 'mightn', \"mightn't\", 'more', 'most', 'mustn', \"mustn't\", 'my', 'myself', 'needn', \"needn't\", 'no', 'nor', 'not', 'now', 'o', 'of', 'off', 'on', 'once', 'only', 'or', 'other', 'our', 'ours', 'ourselves', 'out', 'over', 'own', 're', 's', 'same', 'shan', \"shan't\", 'she', \"she'd\", \"she'll\", \"she's\", 'should', 'shouldn', \"shouldn't\", \"should've\", 'so', 'some', 'such', 't', 'than', 'that', \"that'll\", 'the', 'their', 'theirs', 'them', 'themselves', 'then', 'there', 'these', 'they', \"they'd\", \"they'll\", \"they're\", \"they've\", 'this', 'those', 'through', 'to', 'too', 'under', 'until', 'up', 've', 'very', 'was', 'wasn', \"wasn't\", 'we', \"we'd\", \"we'll\", \"we're\", 'were', 'weren', \"weren't\", \"we've\", 'what', 'when', 'where', 'which', 'while', 'who', 'whom', 'why', 'will', 'with', 'won', \"won't\", 'wouldn', \"wouldn't\", 'y', 'you', \"you'd\", \"you'll\", 'your', \"you're\", 'yours', 'yourself', 'yourselves', \"you've\"]\n"
     ]
    }
   ],
   "source": [
    "print(stopwords.words('English'))"
   ]
  },
  {
   "cell_type": "markdown",
   "metadata": {},
   "source": [
    "## Data provisioning 📦"
   ]
  },
  {
   "cell_type": "markdown",
   "metadata": {},
   "source": [
    "Let's first insert the BBC dataset."
   ]
  },
  {
   "cell_type": "code",
   "execution_count": 4,
   "metadata": {},
   "outputs": [
    {
     "data": {
      "text/plain": [
       "(39, 7)"
      ]
     },
     "execution_count": 4,
     "metadata": {},
     "output_type": "execute_result"
    }
   ],
   "source": [
    "bbc_dataset = pandas.read_csv('scraper/bbc_news_articles_v1.csv')\n",
    "bbc_dataset.shape"
   ]
  },
  {
   "cell_type": "markdown",
   "metadata": {},
   "source": [
    "# Sample the data 📃"
   ]
  },
  {
   "cell_type": "code",
   "execution_count": 5,
   "metadata": {},
   "outputs": [
    {
     "data": {
      "text/html": [
       "<div>\n",
       "<style scoped>\n",
       "    .dataframe tbody tr th:only-of-type {\n",
       "        vertical-align: middle;\n",
       "    }\n",
       "\n",
       "    .dataframe tbody tr th {\n",
       "        vertical-align: top;\n",
       "    }\n",
       "\n",
       "    .dataframe thead th {\n",
       "        text-align: right;\n",
       "    }\n",
       "</style>\n",
       "<table border=\"1\" class=\"dataframe\">\n",
       "  <thead>\n",
       "    <tr style=\"text-align: right;\">\n",
       "      <th></th>\n",
       "      <th>title</th>\n",
       "      <th>link</th>\n",
       "      <th>source</th>\n",
       "      <th>author</th>\n",
       "      <th>date</th>\n",
       "      <th>text</th>\n",
       "      <th>classification</th>\n",
       "    </tr>\n",
       "  </thead>\n",
       "  <tbody>\n",
       "    <tr>\n",
       "      <th>36</th>\n",
       "      <td>Archer records worst bowling figures in IPL hi...</td>\n",
       "      <td>https://www.bbc.com/sport/cricket/articles/cgj...</td>\n",
       "      <td>BBC</td>\n",
       "      <td>NaN</td>\n",
       "      <td>2025-03-23T12:35:01.697Z</td>\n",
       "      <td>Jofra Archer has returned to his former side R...</td>\n",
       "      <td>1</td>\n",
       "    </tr>\n",
       "    <tr>\n",
       "      <th>12</th>\n",
       "      <td>'Wonderful teenagers helped my son on Hallowee...</td>\n",
       "      <td>https://www.bbc.com/news/articles/ckg14rxnw8jo</td>\n",
       "      <td>BBC</td>\n",
       "      <td>George Sandeman</td>\n",
       "      <td>2025-03-23T02:05:57.482Z</td>\n",
       "      <td>Readers have told the BBC about strangers' ran...</td>\n",
       "      <td>1</td>\n",
       "    </tr>\n",
       "    <tr>\n",
       "      <th>25</th>\n",
       "      <td>Watch: Moment police chase ends in four car pi...</td>\n",
       "      <td>https://www.bbc.com/news/videos/c89ynj20p9po</td>\n",
       "      <td>BBC</td>\n",
       "      <td>NaN</td>\n",
       "      <td>2025-03-22T15:55:21.268Z</td>\n",
       "      <td>NaN</td>\n",
       "      <td>1</td>\n",
       "    </tr>\n",
       "    <tr>\n",
       "      <th>1</th>\n",
       "      <td>More than 50,000 killed in Gaza war, Hamas-run...</td>\n",
       "      <td>https://www.bbc.com/news/articles/clyz4nnqgvdo</td>\n",
       "      <td>BBC</td>\n",
       "      <td>Tom Bennett</td>\n",
       "      <td>2025-03-23T13:18:23.851Z</td>\n",
       "      <td>More than 50,000 Palestinians have been killed...</td>\n",
       "      <td>1</td>\n",
       "    </tr>\n",
       "    <tr>\n",
       "      <th>22</th>\n",
       "      <td>'Longest running pop band in history' to end t...</td>\n",
       "      <td>https://www.bbc.com/news/articles/cvg1w93x9ggo</td>\n",
       "      <td>BBC</td>\n",
       "      <td>NaN</td>\n",
       "      <td>2025-03-22T18:04:46.177Z</td>\n",
       "      <td>The Searchers will end nearly 70 years of tour...</td>\n",
       "      <td>1</td>\n",
       "    </tr>\n",
       "    <tr>\n",
       "      <th>17</th>\n",
       "      <td>Five key moments in the battle for Khartoum</td>\n",
       "      <td>https://www.bbc.com/news/articles/ckgy341v680o</td>\n",
       "      <td>BBC</td>\n",
       "      <td>Peter Mwai</td>\n",
       "      <td>2025-03-22T13:01:35.753Z</td>\n",
       "      <td>The Sudanese army has regained control of key ...</td>\n",
       "      <td>1</td>\n",
       "    </tr>\n",
       "    <tr>\n",
       "      <th>18</th>\n",
       "      <td>'My husband is a fighter pilot in Ukraine. Her...</td>\n",
       "      <td>https://www.bbc.com/news/articles/c70wgq7y11qo</td>\n",
       "      <td>BBC</td>\n",
       "      <td>Zhanna Bezpiatchuk</td>\n",
       "      <td>2025-03-23T01:54:53.193Z</td>\n",
       "      <td>Maria's life has been reduced to waiting for t...</td>\n",
       "      <td>1</td>\n",
       "    </tr>\n",
       "    <tr>\n",
       "      <th>34</th>\n",
       "      <td>Tuchel 'not afraid' to make changes as injured...</td>\n",
       "      <td>https://www.bbc.com/sport/football/articles/cw...</td>\n",
       "      <td>BBC</td>\n",
       "      <td>NaN</td>\n",
       "      <td>2025-03-23T10:33:56.935Z</td>\n",
       "      <td>Anthony Gordon replaced Marcus Rashford to ear...</td>\n",
       "      <td>1</td>\n",
       "    </tr>\n",
       "    <tr>\n",
       "      <th>20</th>\n",
       "      <td>Are Nigerians abroad widening the class divide...</td>\n",
       "      <td>https://www.bbc.com/news/articles/cvg1p5ek72vo</td>\n",
       "      <td>BBC</td>\n",
       "      <td>Danai Nesta Kupemba</td>\n",
       "      <td>2025-03-23T02:21:11.613Z</td>\n",
       "      <td>Scenes playing out in Nigeria during holiday p...</td>\n",
       "      <td>1</td>\n",
       "    </tr>\n",
       "    <tr>\n",
       "      <th>9</th>\n",
       "      <td>South Africa envoy expelled from US 'has no re...</td>\n",
       "      <td>https://www.bbc.com/news/articles/cg4k9v0vpv6o</td>\n",
       "      <td>BBC</td>\n",
       "      <td>Wedaeli Chibelushi</td>\n",
       "      <td>2025-03-23T12:41:45.789Z</td>\n",
       "      <td>The South African ambassador who was expelled ...</td>\n",
       "      <td>1</td>\n",
       "    </tr>\n",
       "  </tbody>\n",
       "</table>\n",
       "</div>"
      ],
      "text/plain": [
       "                                                title  \\\n",
       "36  Archer records worst bowling figures in IPL hi...   \n",
       "12  'Wonderful teenagers helped my son on Hallowee...   \n",
       "25  Watch: Moment police chase ends in four car pi...   \n",
       "1   More than 50,000 killed in Gaza war, Hamas-run...   \n",
       "22  'Longest running pop band in history' to end t...   \n",
       "17        Five key moments in the battle for Khartoum   \n",
       "18  'My husband is a fighter pilot in Ukraine. Her...   \n",
       "34  Tuchel 'not afraid' to make changes as injured...   \n",
       "20  Are Nigerians abroad widening the class divide...   \n",
       "9   South Africa envoy expelled from US 'has no re...   \n",
       "\n",
       "                                                 link source  \\\n",
       "36  https://www.bbc.com/sport/cricket/articles/cgj...    BBC   \n",
       "12     https://www.bbc.com/news/articles/ckg14rxnw8jo    BBC   \n",
       "25       https://www.bbc.com/news/videos/c89ynj20p9po    BBC   \n",
       "1      https://www.bbc.com/news/articles/clyz4nnqgvdo    BBC   \n",
       "22     https://www.bbc.com/news/articles/cvg1w93x9ggo    BBC   \n",
       "17     https://www.bbc.com/news/articles/ckgy341v680o    BBC   \n",
       "18     https://www.bbc.com/news/articles/c70wgq7y11qo    BBC   \n",
       "34  https://www.bbc.com/sport/football/articles/cw...    BBC   \n",
       "20     https://www.bbc.com/news/articles/cvg1p5ek72vo    BBC   \n",
       "9      https://www.bbc.com/news/articles/cg4k9v0vpv6o    BBC   \n",
       "\n",
       "                 author                      date  \\\n",
       "36                  NaN  2025-03-23T12:35:01.697Z   \n",
       "12      George Sandeman  2025-03-23T02:05:57.482Z   \n",
       "25                  NaN  2025-03-22T15:55:21.268Z   \n",
       "1           Tom Bennett  2025-03-23T13:18:23.851Z   \n",
       "22                  NaN  2025-03-22T18:04:46.177Z   \n",
       "17           Peter Mwai  2025-03-22T13:01:35.753Z   \n",
       "18   Zhanna Bezpiatchuk  2025-03-23T01:54:53.193Z   \n",
       "34                  NaN  2025-03-23T10:33:56.935Z   \n",
       "20  Danai Nesta Kupemba  2025-03-23T02:21:11.613Z   \n",
       "9    Wedaeli Chibelushi  2025-03-23T12:41:45.789Z   \n",
       "\n",
       "                                                 text  classification  \n",
       "36  Jofra Archer has returned to his former side R...               1  \n",
       "12  Readers have told the BBC about strangers' ran...               1  \n",
       "25                                                NaN               1  \n",
       "1   More than 50,000 Palestinians have been killed...               1  \n",
       "22  The Searchers will end nearly 70 years of tour...               1  \n",
       "17  The Sudanese army has regained control of key ...               1  \n",
       "18  Maria's life has been reduced to waiting for t...               1  \n",
       "34  Anthony Gordon replaced Marcus Rashford to ear...               1  \n",
       "20  Scenes playing out in Nigeria during holiday p...               1  \n",
       "9   The South African ambassador who was expelled ...               1  "
      ]
     },
     "execution_count": 5,
     "metadata": {},
     "output_type": "execute_result"
    }
   ],
   "source": [
    "bbc_dataset.sample(10)"
   ]
  },
  {
   "cell_type": "code",
   "execution_count": 6,
   "metadata": {},
   "outputs": [
    {
     "data": {
      "text/plain": [
       "title              0\n",
       "link               0\n",
       "source             0\n",
       "author            16\n",
       "date               2\n",
       "text               1\n",
       "classification     0\n",
       "dtype: int64"
      ]
     },
     "execution_count": 6,
     "metadata": {},
     "output_type": "execute_result"
    }
   ],
   "source": [
    "bbc_dataset.isnull().sum()"
   ]
  },
  {
   "cell_type": "code",
   "execution_count": 7,
   "metadata": {},
   "outputs": [],
   "source": [
    "cleaned_dataset = bbc_dataset.dropna()"
   ]
  },
  {
   "cell_type": "code",
   "execution_count": 8,
   "metadata": {},
   "outputs": [
    {
     "name": "stdout",
     "output_type": "stream",
     "text": [
      "0     Emily Wither : Istanbul mayor arrested ahead o...\n",
      "1     Tom Bennett : More than 50,000 killed in Gaza ...\n",
      "3     Farhat Javed : A life spent waiting - and sear...\n",
      "4     Emily Wither : Istanbul mayor arrested ahead o...\n",
      "5     Bethany Bell : Pope Francis is discharged from...\n",
      "6     James Landale : Trump envoy dismisses Starmer ...\n",
      "8     Tom Bennett : More than 50,000 killed in Gaza ...\n",
      "9     Wedaeli Chibelushi : South Africa envoy expell...\n",
      "10    Guy Lambert : One of the last journalists to i...\n",
      "11    Lara Lewington, Liv McMahon & Tom Gerken : The...\n",
      "12    George Sandeman : 'Wonderful teenagers helped ...\n",
      "13    Ana Faguy : Columbia University agrees to Trum...\n",
      "14    Zhanna Bezpiatchuk : 'My husband is a fighter ...\n",
      "15    Sarah Rainsford : Fear and anger mount as 'bat...\n",
      "17    Peter Mwai : Five key moments in the battle fo...\n",
      "18    Zhanna Bezpiatchuk : 'My husband is a fighter ...\n",
      "20    Danai Nesta Kupemba : Are Nigerians abroad wid...\n",
      "21    Sarah Rainsford : Fear and anger mount as 'bat...\n",
      "23    Katie Razzall : UK TV industry in crisis, says...\n",
      "24    Kayla Epstein : Venezuela to resume repatriati...\n",
      "27    Ana Faguy : Canada can win trade war with US, ...\n",
      "29    Rushdi Abu Alouf : Israeli air strike kills to...\n",
      "30    Katie Razzall : UK TV industry in crisis, says...\n",
      "Name: content, dtype: object\n"
     ]
    },
    {
     "name": "stderr",
     "output_type": "stream",
     "text": [
      "C:\\Users\\ivetk\\AppData\\Local\\Temp\\ipykernel_23760\\1254440748.py:1: SettingWithCopyWarning: \n",
      "A value is trying to be set on a copy of a slice from a DataFrame.\n",
      "Try using .loc[row_indexer,col_indexer] = value instead\n",
      "\n",
      "See the caveats in the documentation: https://pandas.pydata.org/pandas-docs/stable/user_guide/indexing.html#returning-a-view-versus-a-copy\n",
      "  cleaned_dataset['content'] = cleaned_dataset['author'] + ' : ' + cleaned_dataset['title']\n"
     ]
    }
   ],
   "source": [
    "cleaned_dataset['content'] = cleaned_dataset['author'] + ' : ' + cleaned_dataset['title']\n",
    "print(cleaned_dataset['content'])"
   ]
  },
  {
   "cell_type": "markdown",
   "metadata": {},
   "source": [
    "## Stemming"
   ]
  },
  {
   "cell_type": "code",
   "execution_count": 9,
   "metadata": {},
   "outputs": [
    {
     "name": "stdout",
     "output_type": "stream",
     "text": [
      "                                      content_stemmed\n",
      "0   emili wither : istanbul mayor arrest ahead of ...\n",
      "1   tom bennett : more than 50,000 kill in gaza wa...\n",
      "3   farhat jave : a life spent wait - and search r...\n",
      "4   emili wither : istanbul mayor arrest ahead of ...\n",
      "5   bethani bell : pope franci is discharg from ro...\n",
      "6   jame landal : trump envoy dismiss starmer plan...\n",
      "8   tom bennett : more than 50,000 kill in gaza wa...\n",
      "9   weda chibelushi : south africa envoy expel fro...\n",
      "10  guy lambert : one of the last journalist to in...\n",
      "11  lara lewington , liv mcmahon & tom gerken : th...\n",
      "12  georg sandeman : 'wonder teenag help my son on...\n",
      "13  ana faguy : columbia univers agre to trump adm...\n",
      "14  zhanna bezpiatchuk : 'mi husband is a fighter ...\n",
      "15  sarah rainsford : fear and anger mount as 'bat...\n",
      "17  peter mwai : five key moment in the battl for ...\n",
      "18  zhanna bezpiatchuk : 'mi husband is a fighter ...\n",
      "20  danai nesta kupemba : are nigerian abroad wide...\n",
      "21  sarah rainsford : fear and anger mount as 'bat...\n",
      "23  kati razzal : uk tv industri in crisi , say wo...\n",
      "24  kayla epstein : venezuela to resum repatri of ...\n",
      "27  ana faguy : canada can win trade war with us ,...\n",
      "29  rushdi abu alouf : isra air strike kill top ha...\n",
      "30  kati razzal : uk tv industri in crisi , say wo...\n"
     ]
    },
    {
     "name": "stderr",
     "output_type": "stream",
     "text": [
      "C:\\Users\\ivetk\\AppData\\Local\\Temp\\ipykernel_23760\\66393344.py:8: SettingWithCopyWarning: \n",
      "A value is trying to be set on a copy of a slice from a DataFrame.\n",
      "Try using .loc[row_indexer,col_indexer] = value instead\n",
      "\n",
      "See the caveats in the documentation: https://pandas.pydata.org/pandas-docs/stable/user_guide/indexing.html#returning-a-view-versus-a-copy\n",
      "  cleaned_dataset['content_stemmed'] = cleaned_dataset['content'].apply(apply_stemming)\n"
     ]
    }
   ],
   "source": [
    "stemmer = PorterStemmer()\n",
    "\n",
    "def apply_stemming(text):\n",
    "    words = word_tokenize(text)\n",
    "    stemmed_words = [stemmer.stem(word) for word in words]\n",
    "    return ' '.join(stemmed_words)\n",
    "\n",
    "cleaned_dataset['content_stemmed'] = cleaned_dataset['content'].apply(apply_stemming)\n",
    "\n",
    "print(cleaned_dataset[['content_stemmed']])"
   ]
  },
  {
   "cell_type": "code",
   "execution_count": 10,
   "metadata": {},
   "outputs": [
    {
     "name": "stdout",
     "output_type": "stream",
     "text": [
      "['The main rival to Turkey\\'s President Recep Tayyip Erdogan has been formally arrested and charged with corruption.\\n\\nEkrem Imamoglu, the mayor of the Turkish city of Istanbul, is expected to be selected as the opposition Republican People\\'s Party\\'s (CHP) 2028 presidential candidate in a ballot on Sunday.\\n\\nHe denies the allegations and says they are politically motivated. \"I will never bow\", he was quoted as saying after being remanded in custody pending trial.\\n\\nHis detention has sparked off some of the largest protests in more than a decade. Erdogan has condemned the demonstrations and accused the CHP of trying to \"disturb the peace and polarise our people\".\\n\\nImamoglu was one of more than 100 people, including other politicians, journalists and businessmen, detained as part of an investigation on Wednesday.\\n\\nOn Sunday, he was formally arrested and charged with \"establishing and managing a criminal organisation, taking bribes, extortion, unlawfully recording personal data and rigging a tender\".\\n\\nProsecutors want to charge him with \"aiding an armed terrorist organisation\", but the Turkish court said it was \"not deemed necessary at this stage\" to do so.\\n\\nThe CHP had a de facto alliance with the pro-Kurdish Peoples\\' Equality and Democracy Party (DEM) in connection with last year\\'s local elections.\\n\\nDEM has been accused of being affiliated with the PKK - or Kurdistan Workers\\' Party - which it denies. The PKK declared a ceasefire early this month, after waging an insurgency against Turkey for more than 40 years. It is proscribed as a terrorist group in Turkey, the EU, UK and US.\\n\\nImamoglu is seen as one of Erdogan\\'s most formidable political rivals. He is the only person running in the CHP\\'s presidential candidate selection.\\n\\nThe arrest does not prevent his candidacy and election as president. However, if he is convicted of any of the charges against him he would not be able to run.\\n\\nA day before his arrest, Istanbul University announced it was revoking Imamoglu\\'s degree due to alleged irregularities, a measure - which if upheld - would put his ability to run as president into doubt.\\n\\nAccording to the Turkish constitution, presidents must have completed higher education to hold office.\\n\\nImamoglu\\'s lawyers said they would appeal the decision to revoke his degree to the Constitutional Court and the European Court of Human Rights.\\n\\nThe Supreme Election Council will decide whether Imamoglu is qualified to be a candidate.\\n\\nErdogan has held office for the past 22 years, as both prime minister and president of Turkey. However, due to term limits, he cannot run for office again in 2028 unless he changes the constitution.\\n\\nOpposition figures say the arrests are politically motivated. But the Ministry of Justice has criticised those who link Erdogan to the arrests, and insist on its judicial independence.\\n\\nThousands have taken to the streets across Turkey in largely peaceful demonstrations.\\n\\nAuthorities tried to stifle demonstrations with a four-day ban on all gatherings in Istanbul, which was extended to Ankara and Izmir as the protests spread.\\n\\nRiot police have repeatedly clashed with protesters and could be seen firing pepper gas and water cannons towards crowds of demonstrators.\\n\\nTurkish authorities said 343 people were arrested on Friday night.\\n\\nOn Saturday, tear gas hung in the air outside the mayor\\'s office in Istanbul before the protests had even properly begun.\\n\\nAs the crowds had grown throughout the evening, it became hard to breathe as round after round was fired to disperse demonstrators.\\n\\nChanting \"rights, law, justice\", people of all ages defied the government ban to protest against what they see as an unlawful detention.\\n\\nOne young woman, dressed in black and wearing a face mask, told the BBC she was not protesting for political reasons or because she supported the opposition, but instead to defend democracy.\\n\\n\"I\\'m here for justice, I\\'m here for liberty. We\\'re free people and Turkish people cannot accept this. This is against our behaviour and culture.\"\\n\\nAnother woman, who had brought her 11-year-old son to the protests, said she wanted to include him because she is worried about his future.\\n\\n\"It\\'s getting harder to live in Turkey day by day, we can\\'t control our lives, we can\\'t choose who we want and there is no real justice here,\" she said.\\n\\n'\n",
      " \"More than 50,000 Palestinians have been killed during Israel's military campaign in Gaza, the territory's Hamas-run health ministry has announced.\\n\\nThat number - 50,021 - equates to about 2.1% of the 2.3 million pre-war population of the territory, or around 1 in 46 people.\\n\\nA total of 113,274 others had been injured in the same period, the health ministry said.\\n\\nFigures from the Gaza Ministry of Health (MoH) have been widely used throughout the war and are seen as reliable by the United Nations (UN) and international institutions. But Israel has consistently refuted data published by Gaza's authorities.\\n\\nInternational journalists, including the BBC, are blocked by Israel from entering Gaza independently, so are unable to verify figures from either side.\\n\\nThe figures released by the MoH for the number of people killed do not differentiate between civilians and fighters.\\n\\nIn November, the UN's Human Rights Office said its analysis showedclose to 70% of verified victims over a six-month period were women and children.\\n\\nIn January, The Lancet medical journal published a study which suggested thedeath toll could in fact be substantially higherthan official figures reported by MoH - by up to 41%.\\n\\nThe war was triggered by Hamas's attack on Israel on 7 October 2023, in which about 1,200 people, mainly civilians, were killed and 251 other taken hostage.\\n\\nIsrael responded to the 7 October attack with a massive military offensive, which has caused vast destruction to homes and infrastructure, in addition to those killed or injured.\\n\\nThe MoH also reported on Sunday at least 39 deaths in the last 24 hours, bringing the total number of people killed to 673 since Israel resumed its military operations in the territory on Tuesday.\\n\\n\"\n",
      " 'Saira Baloch was 15 when she stepped into a morgue for the first time.\\n\\nAll she heard in the dimly-lit room were sobs, whispered prayers and shuffling feet. The first body she saw was a man who appeared to have been tortured.\\n\\nHis eyes were missing, his teeth had been pulled out and there were burn marks on his chest.\\n\\n\"I couldn\\'t look at the other bodies. I walked out,\" she recalled.\\n\\nBut she was relieved. It wasn\\'t her brother - a police officer who had been missing for nearly a year since he was arrested in 2018 in a counter-terrorism operation in Balochistan, one of Pakistan\\'s most restive regions.\\n\\nInside the morgue, others continued their desperate search, scanning rows of unclaimed corpses. Saira would soon adopt this grim routine, revisiting one morgue after another. They were all the same: tube lights flickering, the air thick with the stench of decay and antiseptic.\\n\\nOn every visit, she hoped she would not find what she was looking for - seven years on, she still hasn\\'t.\\n\\nActivists say thousands of ethnic Baloch people have been disappeared by Pakistan\\'s security forces in the last two decades - allegedly detained without due legal process, or abducted, tortured and killed in operations against a decades-old separatist insurgency.\\n\\nThe Pakistan government denies the allegations, insisting that many of the missing have joined separatist groups or fled the country.\\n\\nSome return after years, traumatised and broken - but many never come back. Others are found in unmarked graves that have appeared across Balochistan, their bodies so disfigured they cannot be identified.\\n\\nAnd then there are the women across generations whose lives are being defined by waiting.\\n\\nYoung and old, they take part in protests, their faces lined with grief, holding up fading photographs of men no longer in their lives. When the BBC met them at their homes, they offered us black tea - Sulemani chai - in chipped cups as they spoke in voices worn down by sorrow.\\n\\nMany of them insist their fathers, brothers and sons are innocent and have been targeted for speaking out against state policies or were taken as a form of collective punishment.\\n\\nSaira is one of them.\\n\\nShe says she started going to protests after asking the police and pleading with politicians yielded no answers about her brother\\'s whereabouts.\\n\\nMuhammad Asif Baloch was arrested in August 2018 along with 10 others in Nushki, a city along the border with Afghanistan. His family found out when they saw him on TV the next day, looking scared and dishevelled.\\n\\nAuthorities said the men were \"terrorists fleeing to Afghanistan\". Muhammad\\'s family said he was having a picnic with friends.\\n\\nSaira says Muhammad was her \"best friend\", funny and always cheerful - \"My mother worries that she\\'s forgetting his smile.\"\\n\\nThe day he went missing, Saira had aced a school exam and was excited to tell her brother, her \"biggest supporter\". Muhammad had encouraged her to attend universty in Quetta, the provincial capital.\\n\\n\"I didn\\'t know back then that the first time I\\'d go to Quetta, it would be for a protest demanding his release,\" Saira says.\\n\\nThree of the men who were detained along with her brother were released in 2021, but they have not spoken about what happened.\\n\\nMuhammad never came home.\\n\\nThe journey into Balochistan, in Pakistan\\'s south-west, feels like you are stepping into another world.\\n\\nIt is vast - covering about 44% of the country, the largest of Pakistan\\'s provinces - and the land is rich with gas, coal, copper and gold. It stretches along the Arabian Sea, across the water from places like Dubai, which has risen from the sands into glittering, monied skyscrapers.\\n\\nBut Balochistan remains stuck in time. Access to many parts is restricted for security reasons and foreign journalists are often denied access.\\n\\nIt\\'s also difficult to travel around. The roads are long and lonely, cutting through barren hills and desert. As the infrastructure thins out the further you travel, roads are replaced by dirt tracks created by the few vehicles that pass.\\n\\nElectricity is sporadic, water even scarcer. Schools and hospitals are dismal.\\n\\nIn the markets, men sit outside mud shops waiting for customers who rarely come. Boys, who elsewhere in Pakistan may dream of a career, only talk of escape: fleeing to Karachi, to the Gulf, to anywhere that offers a way out of this slow suffocation.\\n\\nBalochistan became a part of Pakistan in 1948, in the upheaval that followed the partition of British India - and in spite of opposition from some influential tribal leaders, who sought an independent state.\\n\\nSome of the resistance turned militant and, over the years, it has been stoked by accusations that Pakistan has exploited the resource-rich region without investing in its development.\\n\\nMilitant groups like the Balochistan Liberation Army (BLA), designated a terrorist group by Pakistan and other nations, have intensified their attacks: bombings, assassinations and ambushes against security forces have become more frequent.\\n\\nEarlier this month,the BLA hijacked a train in Bolan Pass, seizing hundreds of passengers. They demanded the release of missing people in Balochistan in return for freeing hostages.\\n\\nThesiege lasted over 30 hours. According to authorities, 33 BLA militants, 21 civilian hostages and four military personnel were killed. But conflicting figures suggest many passengers remain unaccounted for.\\n\\nThe disappearances in the province are widely believed to be part of Islamabad\\'s strategy to crush the insurgency - but also to suppress dissent, weaken nationalist sentiment and support for an independent Balochistan.\\n\\nMany of the missing are suspected members or sympathisers of Baloch nationalist groups that demand more autonomy or independence. But a significant number are ordinary people with no known political affiliations.\\n\\nBalochistan\\'s Chief Minister Sarfaraz Bugti told the BBC that enforced disappearances are an issue but dismissed the idea that they were happening on a large scale as \"systematic propaganda\".\\n\\n\"Every child in Balochistan has been made to hear \\'missing persons, missing persons\\'. But who will determine who disappeared whom?\\n\\n\"Self-disappearances exist too. How can I prove if someone was taken by intelligence agencies, police, FC, or anyone else or me or you?\"\\n\\nPakistan\\'s military spokesperson Lieutenant General Ahmed Sharif recently said in a press conference that the \"state is solving the issue of missing persons in a systematic manner\".\\n\\nHe repeated the official statistic often shared by the government - of the more than 2,900 cases of enforced disappearances reported from Balochistan since 2011, 80% had been resolved.\\n\\nActivists put the figure higher - at around 7,000 – but there is no single reliable source of data and no way to verify either side\\'s claims.\\n\\nWomen like Jannat Bibi refuse to accept the official number.\\n\\nShe continues to search for her son, Nazar Muhammad, who she claims was taken in 2012 while eating breakfast at a hotel.\\n\\n\"I went everywhere looking for him. I even went to Islamabad,\" she says. \"All I got were beatings and rejection.\"\\n\\nThe 70-year-old lives in a small mud house on the outskirts of Quetta, not far from a symbolic graveyard dedicated to the missing.\\n\\nJannat, who runs a tiny shop selling biscuits and milk cartons, often can\\'t afford the bus fare to attend protests demanding information about the missing. But she borrows what she can so she can keep going.\\n\\n\"Silence is not an option,\" she says.\\n\\nMost of these men - including those whose families we spoke to - disappeared after 2006.\\n\\nThat was the year a key Baloch leader, Nawab Akbar Bugti, was killed in a military operation, leading to a rise in anti-state protests and armed insurgent activities.\\n\\nThe government cracked down in response - enforced disappearances increased, as did the number of bodies found on the streets.\\n\\nIn 2014, mass graves of missing people were discovered in Tootak – a small town near the city of Khuzdar, where Saira lives, 275km (170 miles) south of Quetta.\\n\\nThe bodies were disfigured beyond identification. The images from Tootak shook the country - but the horror was no stranger to people in Balochistan.\\n\\nMahrang Baloch\\'s father, a famous nationalist leader who fought for Baloch rights, had disappeared in early 2009. Abdul Gaffar Langove had worked for the Pakistani government but left the job to advocate for what he believed would be a safer Balochistan.\\n\\nThree years later Mahrang received a phone call that his body had been found in Lasbela district in the south of the province.\\n\\n\"When my father\\'s body arrived, he was wearing the same clothes, now torn. He had been badly tortured,\" she says. For five years, she had nightmares about his final days. She visited his grave \"to convince myself that he was no longer alive and that he was not being tortured\".\\n\\nShe hugged his grave \"hoping to feel him, but it didn\\'t happen\".\\n\\nWhen he was arrested, Mahrang used to write him letters -  \"lots of letters and I would draw greeting cards and send them to him on Eid\". But he returned the cards, saying his prison cell was no place for such \"beautiful\" cards. He wanted her to keep them at home.\\n\\n\"I still miss his hugs,\" she says.\\n\\nAfter her father\\'s death, Mahrang says, her family\\'s world \"collapsed\".\\n\\nAnd then in 2017,  her brother was picked up by security forces, according to the family, and detained for nearly three months.\\n\\n\"It was terrifying. I made my mother believe that what happened to my father wouldn\\'t happen to my brother. But it did,\" Mahrang says. \"I was scared of looking at my phone, because it might be news of my brother\\'s body being found somewhere.\"\\n\\nShe says her mother and she found strength in each other: \"Our tiny house was our safest place, where we would sometimes sit and cry for hours. But outside, we were two strong women who couldn\\'t be crushed.\"\\n\\nIt was then that Mahrang decided to fight against enforced disappearances and extrajudicial killings. Today, the 32-year-old leads the protest movement despite death threats, legal cases and travel bans.\\n\\n\"We want the right to live on our own land without persecution. We want our resources, our rights. We want this rule of fear and violence to end.\"\\n\\nMahrang warns that enforced disappearances fuel more resistance, rather than silence it.\\n\\n\"They think dumping bodies will end this. But how can anyone forget losing their loved one this way? No human can endure this.\"\\n\\nShe demands institutional reforms, ensuring that no mother has to send her child away in fear. \"We don\\'t want our children growing up in protest camps. Is that too much to ask?\"\\n\\nMahrang was arrested on Saturday morning, a few weeks after her interview with the BBC.\\n\\nShe was leading a protest in Quetta after 13 unclaimed bodies - feared to be missing persons - were buried in the city. Authorities claimed they were militants killed after the Bolan Pass train hijacking, though this could not be independently verified.\\n\\nEarlier Mahrang had said: \"I could be arrested anytime. But I don\\'t fear it. This is nothing new for us.\"\\n\\nAnd even as she fights for the future she wants, a new generation is already on the streets.\\n\\nMasooma, 10, clutches her school bag tightly as she weaves through the crowd of protesters, her eyes scanning every face, searching for one that looks like her father\\'s.\\n\\n\"Once, I saw a man and thought he was my father. I ran to him and then realised he was someone else,\" she says.\\n\\n\"Everyone\\'s father comes home after work. I have never found mine.\"\\n\\nMasooma was just three months old when security forces allegedly took her father away during a late-night raid in Quetta.\\n\\nHer mother was told he would return in a few hours. He never did.\\n\\nToday, Masooma spends more time at protests than in the classroom. Her father\\'s photograph is always with her, tucked safely in her school bag.\\n\\nBefore every lesson begins, she takes it out and looks at it.\\n\\n\"I always wonder if my father will come home today.\"\\n\\nShe stands outside the protest camp, chanting slogans with the others, her small frame lost in the crowd of grieving families.\\n\\nAs the protest comes to an end she sits cross-legged on a thin mat in a quiet corner. The noise of slogans and traffic fades as she pulls out her folded letters - letters she has written but could never send.\\n\\nHer fingers tremble as she smooths out the creases, and in a fumbling, uncertain voice, she begins to read them.\\n\\n\"Dear Baba Jan, when will you come back? Whenever I eat or drink water, I miss you. Baba, where are you? I miss you so much. I am alone. Without you, I cannot sleep. I just want to meet you and see your face.\"\\n\\n'\n",
      " 'The main rival to Turkey\\'s President Recep Tayyip Erdogan has been formally arrested and charged with corruption.\\n\\nEkrem Imamoglu, the mayor of the Turkish city of Istanbul, is expected to be selected as the opposition Republican People\\'s Party\\'s (CHP) 2028 presidential candidate in a ballot on Sunday.\\n\\nHe denies the allegations and says they are politically motivated. \"I will never bow\", he was quoted as saying after being remanded in custody pending trial.\\n\\nHis detention has sparked off some of the largest protests in more than a decade. Erdogan has condemned the demonstrations and accused the CHP of trying to \"disturb the peace and polarise our people\".\\n\\nImamoglu was one of more than 100 people, including other politicians, journalists and businessmen, detained as part of an investigation on Wednesday.\\n\\nOn Sunday, he was formally arrested and charged with \"establishing and managing a criminal organisation, taking bribes, extortion, unlawfully recording personal data and rigging a tender\".\\n\\nProsecutors want to charge him with \"aiding an armed terrorist organisation\", but the Turkish court said it was \"not deemed necessary at this stage\" to do so.\\n\\nThe CHP had a de facto alliance with the pro-Kurdish Peoples\\' Equality and Democracy Party (DEM) in connection with last year\\'s local elections.\\n\\nDEM has been accused of being affiliated with the PKK - or Kurdistan Workers\\' Party - which it denies. The PKK declared a ceasefire early this month, after waging an insurgency against Turkey for more than 40 years. It is proscribed as a terrorist group in Turkey, the EU, UK and US.\\n\\nImamoglu is seen as one of Erdogan\\'s most formidable political rivals. He is the only person running in the CHP\\'s presidential candidate selection.\\n\\nThe arrest does not prevent his candidacy and election as president. However, if he is convicted of any of the charges against him he would not be able to run.\\n\\nA day before his arrest, Istanbul University announced it was revoking Imamoglu\\'s degree due to alleged irregularities, a measure - which if upheld - would put his ability to run as president into doubt.\\n\\nAccording to the Turkish constitution, presidents must have completed higher education to hold office.\\n\\nImamoglu\\'s lawyers said they would appeal the decision to revoke his degree to the Constitutional Court and the European Court of Human Rights.\\n\\nThe Supreme Election Council will decide whether Imamoglu is qualified to be a candidate.\\n\\nErdogan has held office for the past 22 years, as both prime minister and president of Turkey. However, due to term limits, he cannot run for office again in 2028 unless he changes the constitution.\\n\\nOpposition figures say the arrests are politically motivated. But the Ministry of Justice has criticised those who link Erdogan to the arrests, and insist on its judicial independence.\\n\\nThousands have taken to the streets across Turkey in largely peaceful demonstrations.\\n\\nAuthorities tried to stifle demonstrations with a four-day ban on all gatherings in Istanbul, which was extended to Ankara and Izmir as the protests spread.\\n\\nRiot police have repeatedly clashed with protesters and could be seen firing pepper gas and water cannons towards crowds of demonstrators.\\n\\nTurkish authorities said 343 people were arrested on Friday night.\\n\\nOn Saturday, tear gas hung in the air outside the mayor\\'s office in Istanbul before the protests had even properly begun.\\n\\nAs the crowds had grown throughout the evening, it became hard to breathe as round after round was fired to disperse demonstrators.\\n\\nChanting \"rights, law, justice\", people of all ages defied the government ban to protest against what they see as an unlawful detention.\\n\\nOne young woman, dressed in black and wearing a face mask, told the BBC she was not protesting for political reasons or because she supported the opposition, but instead to defend democracy.\\n\\n\"I\\'m here for justice, I\\'m here for liberty. We\\'re free people and Turkish people cannot accept this. This is against our behaviour and culture.\"\\n\\nAnother woman, who had brought her 11-year-old son to the protests, said she wanted to include him because she is worried about his future.\\n\\n\"It\\'s getting harder to live in Turkey day by day, we can\\'t control our lives, we can\\'t choose who we want and there is no real justice here,\" she said.\\n\\n'\n",
      " 'Pope Francis has appeared at his window of the Gemelli hospital in Rome and offered a blessing for the first time since being admitted on 14 February.\\n\\nThe 88-year-old pontiff was discharged minutes later and doctors say he will need at least two months of rest at the Vatican.\\n\\nDuring the past five weeks, he presented \"two very critical episodes\" where his \"life was in danger\", Dr Sergio Alfieri, one of the doctors treating the Pope, said.\\n\\nPope Francis was never intubated and always remained alert and oriented, Dr Alfieri said. Even though the Pope is not completely healed, he no longer has pneumonia and will return to work as soon as possible, if the trend continues, doctors say.\\n\\nA crowd of people gathered outside the hospital on Sunday, waiting for the Pope to appear.\\n\\n\"When I saw him I felt, to be honest, a little relieved,\" said Bishop Larry Kulick, from the Diocese of Greensburg in the US state of Pennsylvania. \"I felt just overjoyed to see him.\"\\n\\n\"I cried all the time because the love we breathe in this little square of this hospital was like heaven,\" said Ilaria Della Bidia, a singer from Rome.\\n\\nAna Matos from Brazil said she \"just arrived from Brazil today\" and arrived outside the hospital \"30 seconds before he appeared\". She said that \"it was an amazing feeling, like when I had my son. I was so happy to see him healthy and I could see him smile\".\\n\\nThe Pope had only previously been seen by the public once since he was admitted to hospital, in a photograph released by the Vatican last week, which showed him praying in a hospital chapel.\\n\\nEarlier this month, an audio recording of Pope Francis was played in St Peter\\'s Square in Vatican City.\\n\\nHis voice was breathless as he thanked the Catholic faithful for their prayers.\\n\\nPope Francis has spent 12 years as leader of the Roman Catholic Church.\\n\\nHe has suffered a number of health issues throughout his life, including having part of one of his lungs removed at age 21, making him more prone to infections.\\n\\nAdditional reporting by Giulia Tommasi\\n\\n'\n",
      " 'Sir Keir Starmer\\'s plan for an international force to support a ceasefire in Ukraine has been dismissed as \"a posture and a pose\" by Donald Trump\\'s special envoy.\\n\\nSteve Witkoff said the idea was based on a \"simplistic\" notion of the UK prime minister and other European leaders thinking \"we have all got to be like Winston Churchill\".\\n\\nIn an interview with pro-Trump journalist Tucker Carlson, Witkoff praised Vladimir Putin, saying he \"liked\" the Russian president.\\n\\n\"I don\\'t regard Putin as a bad guy,\" he said. \"He\\'s super smart.\"\\n\\nWitkoff, who met Putin 10 days ago, said the Russian president had been \"gracious\" and \"straight up\" with him. Putin told him, he added, that he had prayed for Trump after an assassination attempt against him last year. He also said Putin had commissioned a portrait of the US president as a gift and Trump was \"clearly touched by it\".\\n\\nDuring the interview, Witkoff repeated various Russian arguments, including that Ukraine was \"a false country\" and asked when the world would recognise occupied Ukrainian territory as Russian.\\n\\nWitkoff is leading the US ceasefire negotiations with both Russia and Ukraine but he was unable to name the five regions of Ukraine either annexed or partially occupied by Russian forces.\\n\\nHe said: \"The largest issue in that conflict are these so-called four regions, Donbas, Crimea, you know the names and there are two others.\"\\n\\nThe five regions - or oblasts - are Luhansk, Donetsk, Zaporizhzhia, Kherson and Crimea. Donbas refers to an industrial region in the east that includes much of Luhansk and Donetsk.\\n\\nWitkoff made several assertions that are either not true or disputed:\\n\\nThe US is set to hold separate talks in Saudi Arabia with Ukraine and Russia about a ceasefire at meetings over Sunday and Monday.\\n\\nAhead of that, Ukrainian authorities said Russia had launched drone attacks on Kyiv overnight, resulting in deaths of three people, including a five-year-old child.\\n\\nOfficials said that eight people had been injured.\\n\\nRussia also struck the southern city of Zaporizhzhia on Friday, killing a family of three.\\n\\nMeanwhile, on Sunday Russia\\'s ministry of defence said it had shot down 59 Ukrainian drones across a number of regions in the south as well as in Crimea, the peninsula illegally annexed by Russia in 2014.\\n\\nDuring his interview, Witkoff also repeated several Kremlin talking points about the cause of Russia\\'s full-scale invasion.\\n\\nHe said it was \"correct\" that from the Russian perspective the partially occupied territories were now part of Russia: \"The elephant in the room is, there are constitutional issues within Ukraine as to what they can concede to with regard to giving up territory. The Russians are de facto in control of these territories. The question is: will the world acknowledge that those are Russian territories?\"\\n\\nHe added: \"There\\'s a sensibility in Russia that Ukraine is just a false country, that they just patched together in this sort of mosaic, these regions, and that\\'s what is the root cause, in my opinion, of this war, that Russia regards those five regions as rightfully theirs since World War Two, and that\\'s something nobody wants to talk about.\"\\n\\nPutin has repeatedly said that the \"root causes\" of his invasion were the threat posed to Russia by an expanded Nato and the sheer existence of Ukraine as an independent country.\\n\\nWitkoff said in theTucker Carlson interview: \"Why would they want to absorb Ukraine? For what purpose? They don\\'t need to absorb Ukraine… They have reclaimed these five regions. They have Crimea and they have gotten what they want. So why do they need more?\"\\n\\nAsked about Keir Starmer\\'s plans to forge a \"coalition of the willing\" to provide military security guarantees for a post-war Ukraine, Witkoff said: \"I think it\\'s a combination of a posture and a pose and a combination of also being simplistic. There is this sort of notion that we have all got to be like [British wartime prime minister] Winston Churchill. Russians are going to march across Europe. That is preposterous by the way. We have something called Nato that we did not have in World War Two.\"\\n\\nHe said a ceasefire in the Black Sea would be \"implemented over the next week or so\" and \"we are not far away\" from a full 30-day ceasefire.\\n\\nHe also gave details of how Trump wanted to co-operate with Russia after relations had been normalised. \"Who doesn\\'t want to have a world where Russia and the US are doing collaboratively good things together, thinking about how to integrate their energy polices in the Arctic, share sea lines maybe, send LNG gas into Europe together, maybe collaborate on AI together?\"\\n\\n'\n",
      " \"More than 50,000 Palestinians have been killed during Israel's military campaign in Gaza, the territory's Hamas-run health ministry has announced.\\n\\nThat number - 50,021 - equates to about 2.1% of the 2.3 million pre-war population of the territory, or around 1 in 46 people.\\n\\nA total of 113,274 others had been injured in the same period, the health ministry said.\\n\\nFigures from the Gaza Ministry of Health (MoH) have been widely used throughout the war and are seen as reliable by the United Nations (UN) and international institutions. But Israel has consistently refuted data published by Gaza's authorities.\\n\\nInternational journalists, including the BBC, are blocked by Israel from entering Gaza independently, so are unable to verify figures from either side.\\n\\nThe figures released by the MoH for the number of people killed do not differentiate between civilians and fighters.\\n\\nIn November, the UN's Human Rights Office said its analysis showedclose to 70% of verified victims over a six-month period were women and children.\\n\\nIn January, The Lancet medical journal published a study which suggested thedeath toll could in fact be substantially higherthan official figures reported by MoH - by up to 41%.\\n\\nThe war was triggered by Hamas's attack on Israel on 7 October 2023, in which about 1,200 people, mainly civilians, were killed and 251 other taken hostage.\\n\\nIsrael responded to the 7 October attack with a massive military offensive, which has caused vast destruction to homes and infrastructure, in addition to those killed or injured.\\n\\nThe MoH also reported on Sunday at least 39 deaths in the last 24 hours, bringing the total number of people killed to 673 since Israel resumed its military operations in the territory on Tuesday.\\n\\n\"\n",
      " 'The South African ambassador who was expelled from the US after a row with Donald Trump\\'s government has said he has \"no regrets\".\\n\\nEbrahim Rasool arrived back home on Sunday and was welcomed by hundreds of raucous supporters at Cape Town International Airport.\\n\\nTensions between South Africa and the US have been on a downward spiral since Trump came into office in January.\\n\\nRasool, 62, was declared unwelcome in the US after State Secretary Marco Rubio called him a \"race-baiting politician who hates America\". It followed a statement by the ambassador thatTrump was \"mobilising a supremacism\" as the States\\' white population faced becoming a minority.\\n\\nRasool defended his comments on Sunday morning after touching down in Cape Town.\\n\\nThe remarks, made during a webinar organised by a South African think-tank, were meant to \"alert\" South African intellectuals and political leaders \"to a change of the way we live, to a change of the way we are positioned in the United States, that the old way of doing business with the US was not a good one\", Rasool said.\\n\\nWhile waiting for Rasool to arrive at the airport, members of the African National Congress, South African Communist Party and South African Trade Union members sung and danced.\\n\\nSome held placards reading \"Ebrahim Rasool, you have served our country with honour!!!\"\\n\\nRasool\\'s expulsion marked a rare move by the US - lower-ranking diplomats are sometimes expelled, but it is highly unusual for it to happen to a more senior official.\\n\\nBut ties with South Africa have been deteriorating for months.\\n\\nIn January, South African President Cyril Ramaphosasigned into law a bill allowing the state to seize land without compensation, provided it was in the \"public interest\".\\n\\nThe move followed years of calls for land reform, with activists and politicians seeking to redistribute farmland from the white minority.\\n\\nIn response to the law, Washington cut aid to South Africa. An executive order cited \"unjust racial discrimination\" against white Afrikaners - descendants of mainly Dutch settlers who first arrived in the 17th Century.\\n\\nSouth Africa has strongly denied this claim.\\n\\nOn Sunday, Rasool lamented that he had not been able to challenge the Trump administration\\'s views.\\n\\nHe was appointed as ambassador to the US just last year, because of his previous experience and extensive network of Washington contacts.\\n\\nHe had previously served as US ambassador from 2010 to 2015, when Barack Obama was president.\\n\\nGo toBBCAfrica.comfor more news from the African continent.\\n\\n\\n\\nFollow us on Twitter@BBCAfrica, on Facebook atBBC Africaor on Instagram atbbcafrica\\n\\n'\n",
      " 'Former Radio 1 DJ Andy Peebles, one of the last people to interview John Lennon, has died at the age of 76, his family has confirmed.\\n\\nHe presented on BBC Radio 1 from 1978 to 1992 and also hosted a number of editions of Top of the Pops in the 1970s and 80s.\\n\\nPeebles interviewed Lennon two days before the musician\\'s murder in December 1980.\\n\\nFriends and former colleagues have paid tribute, calling him \"a lovely man and a great broadcaster\".\\n\\nBorn in 1948, Peebles spent the late 1960s as a nightclub DJ, before turning his hand to radio.\\n\\nHe began his illustrious broadcasting career at BBC Radio Manchester in 1973, before going on to help found the independent radio station Piccadilly Radio a year later, where he first presented his Soul Train show.\\n\\nIn 1978 he moved to BBC Radio 1 where he would spend the next 14 years. He also presented on BBC Radio Lancashire.\\n\\nIt was during this tenure that Peebles interviewed John Lennon - one of the last that the former Beatle would do before he was shot and killed in New York in 1980.\\n\\nFollowing Lennon\\'s death, Peebles maintained a friendship with the musician\\'s wife Yoko Ono and interviewed her again in 1983, in Tokyo, Japan.\\n\\nSpeaking on CBS about the interview with Lennon, Peebles said \"I don\\'t think I\\'ve ever been so nervous in my life.\\n\\n\"I\\'d grown-up not just idolising him but the group [The Beatles] and everything they\\'d done.\"\\n\\nPeebles was also one of the presenters at Wembley Stadium for the Live Aid concert in 1985, introducing artists including David Bowie, Spandau Ballet and Paul Young.\\n\\nHe would go on to broadcast for the British Forces Broadcasting Service and the BBC World Service.\\n\\nHis former Radio 1 colleague Mike Readpaid tributeon social media saying he was \"devastated\" by the news.\\n\\nRead said Peebles \"knew his music & cricket inside out. Raise your bat & enjoy a long rest in the pavilion\".\\n\\nBBC broadcaster Tony Blackburn alsoexpressed his sadnessat the news, calling him \"a lovely man and a great broadcaster\".\\n\\n'\n",
      " 'Having a chip in your brain that can translate your thoughts into computer commands may sound like science fiction - but it is a reality for Noland Arbaugh.\\n\\nIn January 2024 - eight years after he was paralysed - the 30-year-old became the first person to get such a device from the US neurotechnology firm, Neuralink.\\n\\nIt was not the first such chip - a handful of other companies have also developed and implanted them - but Noland\\'s inevitably attracts more attention because of Neuralink\\'s founder: Elon Musk.\\n\\nBut Noland says the important thing is neither him nor Musk - but the science.\\n\\nHe told the BBC he knew the risks of what he was doing - but \"good or bad, whatever may be, I would be helping\".\\n\\n\"If everything worked out, then I could help being a participant of Neuralink,\" he said.\\n\\n\"If something terrible happened, I knew they would learn from it.\"\\n\\nNoland, who is from Arizona, was paralysed below the shoulders in a diving accident in 2016.\\n\\nHis injuries were so severe he feared he might not be able to study, work or even play games again.\\n\\n\"You just have no control, no privacy, and it\\'s hard,\" he said.\\n\\n\"You have to learn that you have to rely on other people for everything.\"\\n\\nThe Neuralink chip looks to restore a fraction of his previous independence, by allowing him to control a computer with his mind.\\n\\nIt is what is known as a brain computer interface (BCI) - which works by detecting the tiny electrical impulses generated when humans think about moving, and translating these into digital command, such as moving a cursor on a screen.\\n\\nIt is a complex subject that scientists have been working on for several decades.\\n\\nInevitably, Elon Musk\\'s involvement in the field has catapulted the tech - and Noland Arbaugh - into the headlines.\\n\\nIt\\'s helped Neuralink attract lots of investment - as well as scrutiny over the safety and significance of what is an extremely invasive procedure.\\n\\nWhen Noland\\'s implant was announced,experts hailed it as a \"significant milestone\", while also cautioning that it would take time to really assess - especially given Musk\\'s adeptness at \"generating publicity for his company.\"\\n\\nMusk was cagey in public at the time, simply writing in a social media post: \"Initial results show promising neuron spike detection.\"\\n\\nIn reality, Noland said, the billionaire - who he spoke to before and after his surgery - was far more optimistic.\\n\\n\"I think he was just as excited as I was to get started,\" he said.\\n\\nNonetheless, he stresses that Neuralink is about more than its owner, and claims he does not consider it \"an Elon Musk device\".\\n\\nWhether the rest of the world sees it that way -especially given his increasingly controversial role in the US government- remains to be seen.\\n\\nBut there is no questioning the impact the device has had on Noland\\'s life.\\n\\nWhen Noland awoke from the surgery which installed the device, he said he was initially able to control a cursor on a screen by thinking about wiggling his fingers.\\n\\n\"Honestly I didn\\'t know what to expect - it sounds so sci-fi,\" he said.\\n\\nBut after seeing his neurons spike on a screen - all the while surrounded by excited Neuralink employees - he said \"it all sort of sunk in\" that he could control his computer with just his thoughts.\\n\\nAnd - even better - over time his ability to use the implant has grown to the point he can now play chess and video games.\\n\\n\"I grew up playing games,\" he said - adding it was something he \"had to let go of\" when he became disabled.\\n\\n\"Now I\\'m beating my friends at games, which really shouldn\\'t be possible but it is.\"\\n\\nNoland is a powerful demonstration of the tech\\'s potential to change lives - but there may be drawbacks too.\\n\\n\"One of the main problems is privacy,\" said Anil Seth, Professor of Neuroscience, University of Sussex.\\n\\n\"So if we are exporting our brain activity [...] then we are kind of allowing access to not just what we do but potentially what we think, what we believe and what we feel,\" he told the BBC.\\n\\n\"Once you\\'ve got access to stuff inside your head, there really is no other barrier to personal privacy left.\"\\n\\nBut these aren\\'t concerns for Noland - instead he wants to see the chips go further in terms of what they can do.\\n\\nHe told the BBC he hoped the device could eventually allow him to control his wheelchair, or even a futuristic humanoid robot.\\n\\nEven with the tech in its current, more limited state, it hasn\\'t all been smooth sailing though.\\n\\nAt one point, an issue with the device caused him to lose control of his computer altogether, when it partially disconnected from his brain.\\n\\n\"That was really upsetting to say the least,\" he said.\\n\\n\"I didn\\'t know if I would be able to use Neuralink ever again.\"\\n\\nThe connection was repaired - and subsequently improved - when engineers adjusted the software, but it highlighted a concern frequently voiced by experts over the technology\\'s limitations.\\n\\nNeuralink is just one of many companies exploring how to digitally tap into our brain power.\\n\\nSynchron is one such firm, which says its Stentrode device aimed at helping people with  motor neurone disease requires a less invasive surgery to implant.\\n\\nRather than requiring open brain surgery, it is installed into a person\\'s jugular vein in their neck, then moved up to their brain through a blood vessel.\\n\\nLike Neuralink, the device ultimately connects to the motor region of the brain.\\n\\n\"It picks up when someone is thinking of tapping or not tapping their finger,\" said chief technology officer Riki Bannerjee.\\n\\n\"By being able to pick up those differences it can create what we call a digital motor output.\"\\n\\nThat output is then turned into computer signals, where it is currently being used by 10 people.\\n\\nOne such person, who did not want his last name to be used, told the BBC he was the first person in the world to use the device with Apple\\'s Vision Pro headset.\\n\\nMark said this has allowed him to virtually holiday in far-flung locations - from standing in waterfalls in Australia to strolling across mountains in New Zealand.\\n\\n\"I can see down the road in the future a world where this technology could really, really make a difference for someone that has this or any paralysis,\" he said.\\n\\nBut for Noland there is one caveat with his Neuralink chip - he agreed to be part of a study which installed it for six years, after which point the future is less clear.\\n\\nWhatever happens to him, he believes his experience may be merely scratching the surface of what might one day become a reality.\\n\\n\"We know so little about the brain and this is allowing us to learn so much more,\" he said.\\n\\nAdditional reporting by Yasmin Morgan-Griffiths.\\n\\n'\n",
      " 'Readers have told the BBC about strangers\\' random acts of kindness, following research that found people underestimated the good intentions of others.\\n\\nIn an experiment by the University of British Columbia, researchers deliberately lost wallets to see how many would be returned. Almost twice as many were handed in than was predicted by people who had beensurveyed for the World Happiness Report.\\n\\nAthena Rowley, 40, who lives in Ipswich with her four-year-old son Robert, was among readers who got in touch to say they\\'d benefitted from a random act of kindness.\\n\\nDuring Halloween last year they went trick or treating in the Suffolk town and filled up a small bucket with sweets. Robert – whose cheery demeanour means he \"makes friends everywhere he goes\" – went dressed as the CBeebies character Hey Duggee.\\n\\nAfter returning to their home, groups of older children came knocking asking for sweets. The last group, Athena tells us, were six teenagers who had dressed up and \"looked very scary\".\\n\\nRobert offered them the last of the sweets that were in the bucket. He also hugged each of them. Five minutes later, the teenagers returned.\\n\\n\"I thought, \\'oh no – I don\\'t have anything left,\\'\" Athena says. \"I opened the door and the kids were stood there with bags of candy.\\n\\n\"And then they handed them to my child because they thought that he might not have any more candy.\"\\n\\nShe adds: \"It was absolutely wonderful because teenagers get such a bad rap nowadays.\"\\n\\nAthena says their behaviour just reaffirms her faith in humanity and young people in particular. \"The next generation has so much kindness and empathy... at some point, the world is going to be in really good hands.\"\\n\\nHer positive view of young people is shared by Jocelyn Tress, 88, and her husband Mark, 89.\\n\\nThe couple were on their way to the airport from their home in Fulham, southwest London when one of their tyres was punctured on the M25.\\n\\nGiven their age and the speed of the traffic, they didn\\'t dare change the tyre themselves, and rang the AA. They were told someone might be there in around half an hour. They feared they would miss their flight to Portugal, where they were supposed to be going on holiday.\\n\\nTen minutes later, however, a young man in a white van pulled up behind them on the hard shoulder. He said he had noticed them parked there after initially driving past them, so he turned off the motorway and came back to see if they needed any help.\\n\\n\"He quickly changed our tyre,\" says Jocelyn. In the hurry she forgot to find out his name but did ask why he had stopped.\\n\\nJocelyn recalls him saying: \"When I went past and saw you were in trouble, I thought, suppose they were my granny and grandpa?\"\\n\\nShe adds: \"He would accept nothing for his kindness.\"\\n\\nJocelyn says there have been occasions when she has fallen on the pavement, only to be helped up by a young person nearby. \"I think on the whole young people are very, very helpful,\" she says.\\n\\nThe stranger who helped Sarah Marten, 66, was older but intervened at a similar time of need. Her story is from 25 years ago, but the impression it left on her remains today.\\n\\nShe was in the John Lewis store in Brent Cross, west London with her children to find a leotard, tutu and tights for her three-year-old daughter Emily, who was about to start ballet lessons.\\n\\nFinding the right size and style had taken quite a long time. Her son Joel, who is 19 months younger than his sister, was not enjoying himself. \"Because he was so young, it had been quite a stressful morning to be honest,\" Sarah tells us. \"He was ready to get back in the car.\"\\n\\nAt the till, Sarah\\'s debit card was declined by her bank. She had neither a credit card nor enough cash with her to make the purchase. After such a trying morning, and with her children now desperate to go home, Sarah became upset.\\n\\nThen a man behind her in the queue stepped forward and asked her how much money she needed.\\n\\nHe opened his wallet and insisted he pay for the ballerina clothes.\\n\\nHe gave her £40. \"That was quite a lot back then,\" says Sarah. \"I was very surprised that somebody would do something like that and not expect the money back.\"\\n\\nThe man did not want to be repaid but Sarah insisted and took his business card. She sent him the money shortly afterwards.\\n\\n\"I remember him being really charming and very kind,\" she says. \"I have actually told other people that he was an angel for me in those circumstances.\"\\n\\nSarah, whose children now work in food and music, says remembering that act of kindness and hearing of similar deeds helps restore her faith in human nature.\\n\\n'\n",
      " 'Columbia University has agreed to several demands from the Trump administration  after $400m (£310m) in federal funding was pulled over accusations the university failed to fight antisemitism on campus.\\n\\nColumbia says face masks used for the purpose of concealing identity are no longer allowed, and anyone involved in a protest must, when asked, present university identification.\\n\\nFriday\\'s memo from the university comes after the Trump administration gave Columbia a list of nine items that were required before it would reconsider the $400m in funding.\\n\\nColumbia has agreed to much of the demands, but the Trump administration is yet to respond and it is unclear if the funding will be restored.\\n\\n\"Our response to the government agencies outlines the substantive work we\\'ve been doing over the last academic year to advance our mission, ensure uninterrupted academic activities, and make every student, faculty, and staff member safe and welcome on our campus,\" Interim President Katrina Armstrong told students in an email on Friday.\\n\\nA change that will impact academics at Columbia is the shift in its Middle Eastern, South Asian and African Studies department. A new official will now lead that department.\\n\\n\"In this role, the Senior Vice Provost will review the educational programs to ensure the educational offerings are comprehensive and balanced,\" the memo read.\\n\\nColumbia says the role will \"conduct a thorough review of the portfolio of programs in regional areas across the University, starting immediately with the Middle East\".\\n\\nThe university will also review admission procedures to \"ensure unbiased admission processes\".\\n\\nEarlier this month, the Trump administration said the reason forfunding being pulled at Columbiawas because of alleged \"continued inaction in the face of persistent harassment of Jewish students\".\\n\\nWhen the $400m was pulled, Secretary of Education Linda McMahon said: \"Universities must comply with all federal antidiscrimination laws if they are going to receive federal funding\".\\n\\nThe Trump administration had requested masks be banned on Columbia campuses, and to allow university police to arrest \"agitators\" - if negotiations about federal funding were to continue.\\n\\nIt is not only Columbia that has faced funding cuts, the Trump administration has warned 60 universities that funding may be cancelled if allegations of antisemitism on campuses are not addressed.\\n\\nThis all comes in the wake of a high-profile arrest of one of Columbia\\'s students.Mahmoud Khalil, a Columbia graduate and campus activist, was detained by federal immigration authorities earlier this month.\\n\\nMr Khalil, a legal permanent US resident, faces deportation for his role in the 2024 campus protests.\\n\\nUS President Donald Trump has repeatedly alleged that Mr Khalil, and other pro-Palestinian activists, support Hamas, a group designated a terrorist organisation by the US.\\n\\nThe 30-year-old\\'s lawyers say he was exercising free speech rights to demonstrate in support of Palestinians in Gaza and against US support for Israel. They accused the government of \"open repression of student activism and political speech\".\\n\\n'\n",
      " 'Maria\\'s life has been reduced to waiting for the next phone call from her husband - never knowing if it might be the last.\\n\\nIvan, a 31-year-old Ukrainian fighter pilot, began defending the skies from the very first hours of Russia\\'s full-scale invasion in February 2022, and has now flown more than 200 perilous missions in his old Soviet-era Mig-29 warplane.\\n\\nThe squadron commander has lost several comrades in the war. Some were close friends. Others were godfathers to each other\\'s children. The location of his current air base in western Ukraine cannot be revealed for security reasons.\\n\\nBut as US-led efforts to negotiate a ceasefire gather pace - and fresh talks with Russia and Ukraine planned on Monday - things have changed.\\n\\n\"If any ceasefire comes [about], we will feel safer,\" says Maria.\\n\\nAcross Ukraine, more and more people are openly talking about war fatigue. They\\'re calling for an end to the most brutal fighting in Europe since World War Two, and for firm guarantees of Western protection to ensure Russia can\\'t attack again.\\n\\nAt the same time, Maria fears that any deal could involve accepting the loss of four Ukrainian regions in the south-eastpartially seized by Russia, as well as Crimea, annexed by Russia in 2014. \"Nobody will give us back our lost territories\", the 29-year-old says. \"They will stay under Russian occupation.\"\\n\\nShe asks: \"What [did] so many men, our heroes, sacrifice their lives for if Ukraine can\\'t fight for them, and is forced to make concessions?\"\\n\\nWhen Maria and Ivan met, the prospect of a full-scale war in Ukraine seemed impossible.\\n\\nMaria was an English teacher at a local children\\'s club in western Ukraine attended by the daughter of one of Ivan\\'s comrades. The comrade offered to set Ivan up with Maria, who he described as \"a very nice teacher\".\\n\\nAt first Ivan felt pressured by the arrangement - but he eventually agreed to come.\\n\\nHe was glad he did. They soon started seeing each other.\\n\\nOn one of their first dates, Ivan warned Maria he had a dangerous job. She said it wouldn\\'t be a problem. Ivan was courageous, caring and protective, and Maria was falling in love.\\n\\nHe soon had to go on a long-term deployment far from home. They lost touch for a year, and it seemed like their relationship might be over.\\n\\nBut then he returned with a giant bouquet of flowers and promised her he didn\\'t want to waste her time. Within a year, the two were married and they were soon expecting their first child.\\n\\nIt was only once Russia launched its full-scale invasion that Maria understood what he\\'d meant about the harsh realities of his work.\\n\\nTheir daughter Yaroslava was only three months old at the time. Ivan missed her early milestones: helping her take her first steps, seeing her first teeth come through and comforting her during her first illness.\\n\\n\"When Ivan is deployed far away from home, I send him thousands of our daughter\\'s photos to help him feel that at least virtually he is spending the day with us,\" says Maria.\\n\\nOn one nearby mission, Maria put her daughter in a pram and rushed to a checkpoint where he could run out to catch them for five minutes.\\n\\nShe brought him home-made food. They talked. And found that every minute together was worth the months they\\'d spent waiting.\\n\\nBefore Yaroslava could even speak, she would use her tiny hands to gesture that her dad was flying through the skies.\\n\\n\"Our daughter knows that her dad is a pilot,\" she says. \"When she had a birthday and her father ate a birthday cake over a video call, we explained to her that he couldn\\'t be with us as he was defending Ukraine from the Russians.\"\\n\\nThe family now have a professional photo taken of them every six months. \"It\\'s very hard for me to say but I have to be completely honest. We never know if it [will be] our final call or meeting,\" Maria says, on the brink of tears.\\n\\nShe feels she has to be ready for \"everything, including the worst-case scenario\".\\n\\nDuring the first year of the war, she would regularly hear about casualties among friends. \"You call their wives and can\\'t find the words to say. And you fear that one day, you may find yourself in the same situation.\"\\n\\nUkrainians are seeking concrete guarantees of protection by the US and Europe, and an increased supply of Western fighter jets, to deter Russian aggression.\\n\\nThe country has received a number of US-made F-16s and French Mirage fighter jets, but the country\\'s air force still largely relies on old Soviet-era warplanes – hardly a match for more advanced Russian aircraft.\\n\\nMaria is cautiously hoping for a ceasefire. It might \"freeze\" the conflict at best, she says, but finds it difficult to rely on as she doesn\\'t trust Russia.\\n\\nVladimir Putinwants an end to Western military aid to Kyiv and intelligence-sharing with the Ukrainians, as well as a halt to mobilisation in Ukraine.\\n\\nMany experts say that his demands are simply a pretext to continue the war he launched, in spite of heavy Russian casualties.\\n\\nThere are also fears that Donald Trump – who has publicly stated that ending the war is one of his top priorities – could be preparing a behind-the-scenes deal with Russia which would force Ukraine to accept painful concessions.\\n\\nEven after a ceasefire, Maria will still be waiting for calls and rare meetings, as the Ukrainian air force will have to stay alert for a long time.\\n\\nAnd while there may be peace in Ukraine, she wonders if her husband will ever be at peace again. Maria says Ivan, who has been deeply affected by the fighting on the front line, has a \"patriotic soul\" and will continue serving even after the war.\\n\\nMaria feels it is important for him to not feel the casualties were in vain, and remains hopeful that the Russian-held parts of Kherson, Zaporizhzhia, Donetsk and Luhansk will one day be returned.\\n\\nThe priority for Maria now is to reassure her husband and offer him optimism.  She dreams of a future where her young family can finally start to rebuild their life in a home of their own, in their own country.\\n\\n\"My husband needs to know that we are always waiting for him.\"\\n\\n'\n",
      " 'The Romanian village of Poeni has a couple of shops, a kebab grill and a pack of stray dogs.\\n\\nIt also has a fair few voters who wanted a far-right candidate to become president.\\n\\nPoeni, just over an hour\\'s drive from the capital, is not alone in that.\\n\\nLast November, Calin Georgescu – who admires Vladimir Putin and is no fan of Nato – came from the extremist fringe to win the first round of Romania\\'s presidential election with 23% of the vote.\\n\\nIn Poeni he did even better, with 24%.\\n\\nThen the constitutional court scrapped the entire election in an unprecedented move, citing intelligence that Georgescu\\'s online campaign had been boosted by Russia.\\n\\nIn Poeni, a young voter called those claims \"lies\", angry at the cancelled vote. \"They should have let him run to see what happens,\" Maria argues.\\n\\nA new ballot will be held in May but Georgescu has been barred from participating.\\n\\nIn Bucharest, supporters who took to the streets yelled that the judges were destroying democracy. A handful clashed briefly with police, who used tear gas.\\n\\nNow nationalist politician George Simion has stepped into the race and is polling strongly instead.\\n\\nMany Romanians fear their country\\'s core European values, and its global alliances, are still in danger.\\n\\n\"We are in the middle of a battle of ideas. We don\\'t have options here,\" is how one democracy activist describes the mood. \"The fight is now.\"\\n\\nIn Poeni village there\\'s less talk of values and of Russian meddling, more about the money in their pockets. Or rather the lack of it.\\n\\nBy the side of the main road, where the traffic alternates between heavy trucks and horses and carts, men buy charred chunks of kebab and pensioners chat on dusty benches.\\n\\nA metal public phone box is bent out of shape, its sign dangling as it probably has for years.\\n\\nIncomes here are small, prices are climbing and life is tough as in much of Romania.\\n\\n\"I want Georgescu to straighten everyone out. They tricked us. They promised us more pension money,\" a middle-aged woman speaks quietly at first, then becomes bolder. \"The others have done nothing for us here!\"\\n\\nIn the village store, Ionela is just as disenchanted.\\n\\n\"Young people finish college here and can\\'t get work, so they go abroad. That isn\\'t normal. We need our young people to have places here to work,\" she complains from behind the shop counter.\\n\\nMillions of Romanians work elsewhere in the EU and send money home to their families. In Poeni you can see where some of that ends up, in all the half-done new homes.\\n\\nIonela\\'s whole family voted for Georgescu. He promised to cut taxes, she thinks, but she doesn\\'t seem to have registered his far-right ideology.\\n\\nA man who\\'s praised extremist figures from Romania\\'s past, he\\'s now under investigation for suspected links to a group with \"fascist, racist or xenophobic characteristics\".\\n\\nEmerging after questioning, the politician was filmed giving a fascist-style salute.\\n\\nOther villagers in Poeni did see that and do know all about the murky characters Georgescu has been linked to.\\n\\nOn hearing his name, one pensioner grabs her crutch and wields it like a machine gun, shouting that he is dangerous.\\n\\nAnother told me people were suspicious of someone who surged to prominence from nowhere and of his focus on sovereignty over economic sense.\\n\\n\"He tells us we don\\'t need Europe to help us with money. So how are we going to live? Let\\'s face it: Europe feeds us!\" she says.\\n\\nRomania\\'s vote has become the topic of talk far beyond the streets of Poeni, or even Bucharest.\\n\\nWhen US Vice President JD Vance shocked Europe with a speech in Munich, claiming that the EU\\'s greatest threat came from within and not from Russia, he cited Romania several times.\\n\\nHe declared that the country\\'s election had been cancelled on \"flimsy suspicions\" under \"enormous pressure\" from the EU. Then Elon Musk slammed the court\\'s move as \"\\'crazy\" on X.\\n\\nMoscow would have enjoyed that.\\n\\nRussia\\'s external intelligence agency came out in full agreement with the US that the \"liberal mainstream\" in Europe was suppressing dissent.\\n\\nThis from an authoritarian regime.\\n\\n\"It\\'s the new world we are living in. It\\'s Maga ideology. They try to find partners and their partners are far-right parties in all Europe,\" is how journalist Ion Ionita sees the US-Russia alignment.\\n\\nTo him, annulling the presidential elections was not only constitutional but justified.\\n\\n\"We are living through a hybrid war, democracy is under pressure,\" he argues. The threat is real.\\n\\nBut Romania, which borders Ukraine and hosts a big Nato base, now has to deal with US hostility too.\\n\\n\"It\\'s a dramatic change. America is our ally, the biggest one, and the most important security provider for Romania,\" Ion Ionis points out. \"We need this partnership to go further and to be stronger.\\n\\n\"People are worried.\"\\n\\nFor Florin Buhuceanu the dispute isn\\'t only political – it\\'s personal.\\n\\nHis Bucharest flat, a modernist gem, is a mini museum \"dedicated to gay memory\".\\n\\nOn one wall there\\'s a large photograph from the 1930s of three gay men under arrest. In the next room is a wooden cabinet that once displayed Romanian fascist-era memorabilia in an antique store. Now it contains pictures of gay icons.\\n\\nRomania only decriminalised homosexuality in 2001.\\n\\n\"No state museum would take such donations,\" Florin says, so he and his partner display the exhibits at home for invited guests.\\n\\nA prominent LGBT activist, he\\'s had so many threats in the heat of this election campaign that the security services have warned him to be careful.\\n\\nEven with Georgescu disappearing as swiftly as he appeared, the atmosphere is febrile.\\n\\nGeorge Simion, now considered a frontrunner, has been investigated after calling for election officials to be \"skinned alive\" for barring Georgescu from the race.\\n\\nHe describes his nationalist AUR as a \"patriotic party of conservative essence\" whose pillars are \"Faith, Nation, Family and Freedom.\"\\n\\nLGBT rights group Mozaiq has warned of a surge in anti-Semitic, racist and homophobic rhetoric in recent weeks. It had to alert police after social media messages urging attacks on its office.\\n\\nSo Florin Buhuceanu fears his country is being thrown back to the past.\\n\\n\"Before 2001, it was absolutely impossible for us to breathe. Now we hear again and again the same rhetoric,\" he says.\\n\\nWorse still, the US, Russia and the Romanian far right now coincide.\\n\\n\"It\\'s obvious that our rights are fragile and the world is regrouping, so we have to continue this battle,\" the activist warns. \"It\\'s not just for our community. It\\'s for the soul of Romanian democracy.\"\\n\\n'\n",
      " 'The Sudanese army has regained control of key areas of the capital, Khartoum, from the Rapid Support Forces (RSF), a paramilitary faction seeking to overthrow the overthrow the UN-recognised government.\\n\\nOn Friday, jubilant army soldiers took photos of themselves in front of the battle-scarred entrance to the presidential palace in the heart of the city.\\n\\nFighting in Sudan broke out in April 2023, when the RSF launched attacks on Sudanese Armed Forces (SAF) bases throughout Sudan, capturing significant territory, including key parts of the capital city and its airport.\\n\\nTens of thousands of people have died in the conflict, millions have been forced from their homes and many have been left facing famine in what the UN has described as the world\\'s worst humanitarian crisis.\\n\\nBBC Verify has been analysing videos and images posted during the conflict, frequently by fighters on both sides, to build a picture of the army\\'s push to take back control of Khartoum.\\n\\nThe city is bounded by two great rivers, the Blue and White Nile, and the army\\'s fight to regain control has been defined by these geographical constraints.\\n\\nThe offensive to retake the capital began in earnest on 26 September when the army launched air strikes against RSF-held areas in Khartoum.\\n\\nThen in January, the beginning of the dry season saw fresh pushes by the army - bolstered by a new alliance with Islamists and ethnic militias - leading to a string of strategic victories.\\n\\nWe\\'ve identified video and photographs from key moments in the retaking of the city.\\n\\nThearmy headquartersin central Khartoum had been encircled by RSF forces for 21 months, trapping soldiers unable to link up with other army units closing in on the city.\\n\\nThen in late January, following military advances further north, the army was able to send reinforcements to break through RSF lines and end the siege.\\n\\nVerified social media footage posted on 25 January shows soldiers celebrating in the grounds of the army HQ.\\n\\nThe following day, the army chief General Abdel Fattah al-Burhan, visited the army HQ saying his forces would \"eradicate\" the RSF and pursue them to the corners of the country.\\n\\nMany RSF fighters attempted to withdraw across the White Nile River to safer areas on the western side as pressure mounted on their positions.\\n\\nThey found their escape route blocked following a reported air strike by the SAF on the main bridge across the river.\\n\\nFootage posted on 6 February shows this crossing point atJebel Awliya damabout 40 km south of Khartoum, blocked by badly damaged vehicles, with black smoke visible in the distance.\\n\\nBBC Verify has been able to confirm the location of this footage using satellite imagery which also shows black smoke rising at that location on the bridge.\\n\\nArmy forces approaching Khartoum attempted to take control of theManshiya Bridge, the last major crossing under RSF control.\\n\\nOn 3 March, the SAF posted drone footage from the battle for control of the bridge.\\n\\nIn it we can see the army targeting RSF vehicles and fighters trying to flee.  A truck, carrying some men, and others running alongside, can  be seen going up in flames as it is hit on the bridge.\\n\\nFurther drone footage shows more than a dozen men scampering through shrubs towards the bridge.\\n\\nIn the following days the army was able to hold its position at the bridge and to close in on the remaining RSF fighters trapped in the area.\\n\\nBBC Verify has identified dramatic footage, posted on 16 March, of what appears to be an RSF fighter caught in anarmy ambushas they flee the SAF advance towards the city centre.\\n\\nAlong a tarmac street, a speeding motorcycle comes under a hail of bullets and suddenly flips over throwing off its rider.\\n\\nThe men firing - identifiable as belonging to the army from their uniform and yellow headbands - can be heard in the footage congratulating themselves following the attack.\\n\\nBy matching the buildings and the trees we see in the videos to satellite imagery, we have established the incident took place at a location about 2 km (1.2 miles) south of the presidential palace.\\n\\nWe\\'ve identified video of the army striking a convoy of vehicles travelling along al-Qasr Avenue, moving away from the palace, posted online early on the morning of 20 March.\\n\\nThe footage shows a huge fire erupting, with multiple explosions and projectiles emerging from within the fire, suggesting the detonation of munitions being carried on the vehicles.\\n\\nThe video is accompanied by voices, speaking in Arabic, describing the attack on the RSF convoy vehicles containing weaponry.\\n\\nWe have managed to establish the location from two buildings seen in the footage which match buildings we see on Google Maps at a junction just over 1km from the presidential palace.\\n\\nJust a few hours later, jubilant Sudan army soldiers posed for pictures in front of the palace building, their arms raised in victory.\\n\\nThe RSF still hold control over significant parts of the city as well as large areas of western Sudan.  But the taking of the palace by the army is hugely symbolic moment in the conflict.\\n\\nAdditional reporting by Kumar Malhotra, Richard Irvine-Brown, Benedict Garman and Matt Murphy\\n\\n'\n",
      " 'Maria\\'s life has been reduced to waiting for the next phone call from her husband - never knowing if it might be the last.\\n\\nIvan, a 31-year-old Ukrainian fighter pilot, began defending the skies from the very first hours of Russia\\'s full-scale invasion in February 2022, and has now flown more than 200 perilous missions in his old Soviet-era Mig-29 warplane.\\n\\nThe squadron commander has lost several comrades in the war. Some were close friends. Others were godfathers to each other\\'s children. The location of his current air base in western Ukraine cannot be revealed for security reasons.\\n\\nBut as US-led efforts to negotiate a ceasefire gather pace - and fresh talks with Russia and Ukraine planned on Monday - things have changed.\\n\\n\"If any ceasefire comes [about], we will feel safer,\" says Maria.\\n\\nAcross Ukraine, more and more people are openly talking about war fatigue. They\\'re calling for an end to the most brutal fighting in Europe since World War Two, and for firm guarantees of Western protection to ensure Russia can\\'t attack again.\\n\\nAt the same time, Maria fears that any deal could involve accepting the loss of four Ukrainian regions in the south-eastpartially seized by Russia, as well as Crimea, annexed by Russia in 2014. \"Nobody will give us back our lost territories\", the 29-year-old says. \"They will stay under Russian occupation.\"\\n\\nShe asks: \"What [did] so many men, our heroes, sacrifice their lives for if Ukraine can\\'t fight for them, and is forced to make concessions?\"\\n\\nWhen Maria and Ivan met, the prospect of a full-scale war in Ukraine seemed impossible.\\n\\nMaria was an English teacher at a local children\\'s club in western Ukraine attended by the daughter of one of Ivan\\'s comrades. The comrade offered to set Ivan up with Maria, who he described as \"a very nice teacher\".\\n\\nAt first Ivan felt pressured by the arrangement - but he eventually agreed to come.\\n\\nHe was glad he did. They soon started seeing each other.\\n\\nOn one of their first dates, Ivan warned Maria he had a dangerous job. She said it wouldn\\'t be a problem. Ivan was courageous, caring and protective, and Maria was falling in love.\\n\\nHe soon had to go on a long-term deployment far from home. They lost touch for a year, and it seemed like their relationship might be over.\\n\\nBut then he returned with a giant bouquet of flowers and promised her he didn\\'t want to waste her time. Within a year, the two were married and they were soon expecting their first child.\\n\\nIt was only once Russia launched its full-scale invasion that Maria understood what he\\'d meant about the harsh realities of his work.\\n\\nTheir daughter Yaroslava was only three months old at the time. Ivan missed her early milestones: helping her take her first steps, seeing her first teeth come through and comforting her during her first illness.\\n\\n\"When Ivan is deployed far away from home, I send him thousands of our daughter\\'s photos to help him feel that at least virtually he is spending the day with us,\" says Maria.\\n\\nOn one nearby mission, Maria put her daughter in a pram and rushed to a checkpoint where he could run out to catch them for five minutes.\\n\\nShe brought him home-made food. They talked. And found that every minute together was worth the months they\\'d spent waiting.\\n\\nBefore Yaroslava could even speak, she would use her tiny hands to gesture that her dad was flying through the skies.\\n\\n\"Our daughter knows that her dad is a pilot,\" she says. \"When she had a birthday and her father ate a birthday cake over a video call, we explained to her that he couldn\\'t be with us as he was defending Ukraine from the Russians.\"\\n\\nThe family now have a professional photo taken of them every six months. \"It\\'s very hard for me to say but I have to be completely honest. We never know if it [will be] our final call or meeting,\" Maria says, on the brink of tears.\\n\\nShe feels she has to be ready for \"everything, including the worst-case scenario\".\\n\\nDuring the first year of the war, she would regularly hear about casualties among friends. \"You call their wives and can\\'t find the words to say. And you fear that one day, you may find yourself in the same situation.\"\\n\\nUkrainians are seeking concrete guarantees of protection by the US and Europe, and an increased supply of Western fighter jets, to deter Russian aggression.\\n\\nThe country has received a number of US-made F-16s and French Mirage fighter jets, but the country\\'s air force still largely relies on old Soviet-era warplanes – hardly a match for more advanced Russian aircraft.\\n\\nMaria is cautiously hoping for a ceasefire. It might \"freeze\" the conflict at best, she says, but finds it difficult to rely on as she doesn\\'t trust Russia.\\n\\nVladimir Putinwants an end to Western military aid to Kyiv and intelligence-sharing with the Ukrainians, as well as a halt to mobilisation in Ukraine.\\n\\nMany experts say that his demands are simply a pretext to continue the war he launched, in spite of heavy Russian casualties.\\n\\nThere are also fears that Donald Trump – who has publicly stated that ending the war is one of his top priorities – could be preparing a behind-the-scenes deal with Russia which would force Ukraine to accept painful concessions.\\n\\nEven after a ceasefire, Maria will still be waiting for calls and rare meetings, as the Ukrainian air force will have to stay alert for a long time.\\n\\nAnd while there may be peace in Ukraine, she wonders if her husband will ever be at peace again. Maria says Ivan, who has been deeply affected by the fighting on the front line, has a \"patriotic soul\" and will continue serving even after the war.\\n\\nMaria feels it is important for him to not feel the casualties were in vain, and remains hopeful that the Russian-held parts of Kherson, Zaporizhzhia, Donetsk and Luhansk will one day be returned.\\n\\nThe priority for Maria now is to reassure her husband and offer him optimism.  She dreams of a future where her young family can finally start to rebuild their life in a home of their own, in their own country.\\n\\n\"My husband needs to know that we are always waiting for him.\"\\n\\n'\n",
      " 'Scenes playing out in Nigeria during holiday periods could be in a movie: emotional reunions at airport terminals, champagne flowing like water in high-end clubs and A-list Afrobeats performers dominating stages to packed audiences nationwide.\\n\\nThis is when Nigerians abroad return for a visit to the home country. They are nicknamed I Just Got Back (IJGB) and bring with them more than full suitcases.\\n\\nTheir Western accents dip in and out of Pidgin, their wallets are boosted by the exchange rate, and their presence fuels the economy.\\n\\nBut it also highlights an uncomfortable truth.\\n\\nThose who live in Nigeria, earning in the local naira currency, feel shut out of their own cities, especially in the economic hub of Lagos and the capital, Abuja, as prices go up during festive periods.\\n\\nResidents say this is particularly the case for \"Detty December\", a term used to refer the celebrations around Christmas and New Year.\\n\\nDetty December makes Lagos almost unliveable for locals - traffic is horrible, prices inflate and businesses stop prioritising their regular customers, a radio presenter based in Lagos tells the BBC.\\n\\nThe popular media personality asked not to be named for voicing what some might consider controversial opinions.\\n\\nBut he is not the only one to hold these views and has some are pondering, with Easter and the diaspora summer holiday season approaching, whether the IJGBs are helping bridge Nigeria\\'s class divide or are making it even wider.\\n\\n\"Nigeria is very classist. Ironically, we\\'re a poor country, so it\\'s a bit silly,\" the radio presenter adds.\\n\\n\"The wealth gap is massive. It\\'s almost like we\\'re worlds apart.\"\\n\\nIt is true that despite oil-rich Nigeria being one of Africa\\'s biggest economies and the continent\\'s most populous country, its more than 230 million citizens face huge challenges and limited opportunities.\\n\\nAt the beginning of the year,the charity Oxfam warnedthe wealth gap in Nigeria was reaching a \"crisis level\".\\n\\nStatistics from 2023 are startling.\\n\\nAccording to the World Inequality Database more than 10% of the population owned more than 60% of Nigeria\\'s wealth. For those with jobs, 10% of the population took home 42% of the income.\\n\\nThe World Bank says the figure of those living below the poverty line is 87 million - \"the world\\'s second-largest poor population after India\".\\n\\nMartins Ifeanacho, professor of sociology at the University of Port Harcourt, says this gap and resulting class divide has grown since Nigeria\\'s independence from the UK in 1960.\\n\\n\"We\\'ve gone through so much economic hardship,\" the academic, who returned to Nigeria after studying in Ireland in the 1990s, tells the BBC.\\n\\nHe points the finger at the greed of those who are in position of political power - be it at a federal or state level.\\n\\n\"We have a political elite that bases its calculations on how to acquire power, amass wealth for the purpose of capturing more power.\\n\\n\"The ordinary people are left out of the equation, and that\\'s why there is a lot of hardship.\"\\n\\nBut it is not just about money in the bank account.\\n\\nWealth, real or perceived, can dictate access, status and opportunity - and the presence of the diaspora can magnify the class divide.\\n\\n\"Nigeria\\'s class system is hard to pinpoint. It\\'s not just about money, it\\'s about perception,\" explains the radio presenter.\\n\\nHe gives the example of going out for a meal in Lagos and how peacocking is so important.\\n\\nAt restaurants, those arriving in a Range Rover are quickly attended to, while those in a Kia may be ignored, says the radio presenter.\\n\\nSocial mobility is difficult when the nation\\'s wealth remains within a small elite.\\n\\nWith odds stacked against those trying to climb the ladder, for many Nigerians the only realistic path to a better life is to leave.\\n\\nThe World Bank blames \"weak job creation and entrepreneurial prospects\" that stifle the absorption of \"the 3.5 million Nigerians entering the labour force every year\".\\n\\n\"Many workers choose to emigrate in search of better opportunities,\" it says.\\n\\nSince the 1980s, middle-class Nigerians have sought opportunities abroad, but in recent years, the urgency has intensified, especially among Gen Z and millennials.\\n\\nThis mass exodus has been dubbed \"japa\", a Yoruba word meaning \"to escape\".\\n\\nA 2022 surveyfound that at least 70% of young Nigerians would relocate if they could.\\n\\nBut for many, leaving is not simple. Studying abroad, the most common route, can cost tens of thousands of dollars, not including travel, accommodation and visa expenses.\\n\\n\"Japa creates this aspirational culture where people now want to leave the country,\" says Lulu Okwara, a 28-year-old recruitment officer.\\n\\nShe went the UK to study finance in 2021 - and is one of the IJGBs, having returned to Nigeria at least three times since moving.\\n\\nMs Okwara notes that in Nigeria there is a pressure to succeed. A culture where achievement is expected.\\n\\n\"It\\'s success or nothing,\" she tells the BBC. \"There is no room for failure.\"\\n\\nThis deeply embedded sentiment makes people feel they must do anything to succeed.\\n\\nEspecially for those who come from more working-class backgrounds. The IJGBs have a point to prove.\\n\\n\"When people go out there, their dream is always to come back as heroes, mostly during Christmas or other festivities,\" says Prof Ifeanacho.\\n\\n\"You come back home and you mix with your people that you\\'ve missed for a long time.\\n\\n\"The type of welcome they will give to you, the children that will be running to you, is something that you love and cherish.\"\\n\\nSuccess is chased at any cost and putting on a foreign accent can help you climb Nigeria\\'s social ladder - even if you have not been abroad.\\n\\n\"People fake accents to get access. The more you sound British, the higher your social status,\" says Prof Ifeanacho.\\n\\nHe recalls a story about a pastor who preached every Sunday on the radio.\\n\\n\"When they told me that this man had not left Nigeria, I said, \\'No, that\\'s not possible.\\' Because when you hear him speak, everything is American,\" he says in disbelief.\\n\\nAmerican and British accents, especially, act as a different kind of currency, smoothing paths in both professional and social settings.\\n\\nPushback on social media suggests some IJGBs are all front - they may lap up the returning hero adulation but in fact lack financial clout.\\n\\nBizzle Osikoya, the owner at The Plug Entertainment, a business that hosts live music events in West Africa, says he has encountered some issues that reflect this.\\n\\nHe tells the BBC about how several IJGBs have attended his events - but who have gone on to try and get their money back.\\n\\n\"They went back to the US and Canada and put a dispute on their payments,\" he says.\\n\\nThis may reflect the desperate effort to maintain a façade of success in a society where every display of wealth is scrutinised.\\n\\nIn Nigeria, it seems, performance is key - and the IJGBs who are able to show off will certainly be able to climb the class ladder.\\n\\nGo toBBCAfrica.comfor more news from the African continent.\\n\\n\\n\\nFollow us on Twitter@BBCAfrica, on Facebook atBBC Africaor on Instagram atbbcafrica\\n\\n'\n",
      " 'The Romanian village of Poeni has a couple of shops, a kebab grill and a pack of stray dogs.\\n\\nIt also has a fair few voters who wanted a far-right candidate to become president.\\n\\nPoeni, just over an hour\\'s drive from the capital, is not alone in that.\\n\\nLast November, Calin Georgescu – who admires Vladimir Putin and is no fan of Nato – came from the extremist fringe to win the first round of Romania\\'s presidential election with 23% of the vote.\\n\\nIn Poeni he did even better, with 24%.\\n\\nThen the constitutional court scrapped the entire election in an unprecedented move, citing intelligence that Georgescu\\'s online campaign had been boosted by Russia.\\n\\nIn Poeni, a young voter called those claims \"lies\", angry at the cancelled vote. \"They should have let him run to see what happens,\" Maria argues.\\n\\nA new ballot will be held in May but Georgescu has been barred from participating.\\n\\nIn Bucharest, supporters who took to the streets yelled that the judges were destroying democracy. A handful clashed briefly with police, who used tear gas.\\n\\nNow nationalist politician George Simion has stepped into the race and is polling strongly instead.\\n\\nMany Romanians fear their country\\'s core European values, and its global alliances, are still in danger.\\n\\n\"We are in the middle of a battle of ideas. We don\\'t have options here,\" is how one democracy activist describes the mood. \"The fight is now.\"\\n\\nIn Poeni village there\\'s less talk of values and of Russian meddling, more about the money in their pockets. Or rather the lack of it.\\n\\nBy the side of the main road, where the traffic alternates between heavy trucks and horses and carts, men buy charred chunks of kebab and pensioners chat on dusty benches.\\n\\nA metal public phone box is bent out of shape, its sign dangling as it probably has for years.\\n\\nIncomes here are small, prices are climbing and life is tough as in much of Romania.\\n\\n\"I want Georgescu to straighten everyone out. They tricked us. They promised us more pension money,\" a middle-aged woman speaks quietly at first, then becomes bolder. \"The others have done nothing for us here!\"\\n\\nIn the village store, Ionela is just as disenchanted.\\n\\n\"Young people finish college here and can\\'t get work, so they go abroad. That isn\\'t normal. We need our young people to have places here to work,\" she complains from behind the shop counter.\\n\\nMillions of Romanians work elsewhere in the EU and send money home to their families. In Poeni you can see where some of that ends up, in all the half-done new homes.\\n\\nIonela\\'s whole family voted for Georgescu. He promised to cut taxes, she thinks, but she doesn\\'t seem to have registered his far-right ideology.\\n\\nA man who\\'s praised extremist figures from Romania\\'s past, he\\'s now under investigation for suspected links to a group with \"fascist, racist or xenophobic characteristics\".\\n\\nEmerging after questioning, the politician was filmed giving a fascist-style salute.\\n\\nOther villagers in Poeni did see that and do know all about the murky characters Georgescu has been linked to.\\n\\nOn hearing his name, one pensioner grabs her crutch and wields it like a machine gun, shouting that he is dangerous.\\n\\nAnother told me people were suspicious of someone who surged to prominence from nowhere and of his focus on sovereignty over economic sense.\\n\\n\"He tells us we don\\'t need Europe to help us with money. So how are we going to live? Let\\'s face it: Europe feeds us!\" she says.\\n\\nRomania\\'s vote has become the topic of talk far beyond the streets of Poeni, or even Bucharest.\\n\\nWhen US Vice President JD Vance shocked Europe with a speech in Munich, claiming that the EU\\'s greatest threat came from within and not from Russia, he cited Romania several times.\\n\\nHe declared that the country\\'s election had been cancelled on \"flimsy suspicions\" under \"enormous pressure\" from the EU. Then Elon Musk slammed the court\\'s move as \"\\'crazy\" on X.\\n\\nMoscow would have enjoyed that.\\n\\nRussia\\'s external intelligence agency came out in full agreement with the US that the \"liberal mainstream\" in Europe was suppressing dissent.\\n\\nThis from an authoritarian regime.\\n\\n\"It\\'s the new world we are living in. It\\'s Maga ideology. They try to find partners and their partners are far-right parties in all Europe,\" is how journalist Ion Ionita sees the US-Russia alignment.\\n\\nTo him, annulling the presidential elections was not only constitutional but justified.\\n\\n\"We are living through a hybrid war, democracy is under pressure,\" he argues. The threat is real.\\n\\nBut Romania, which borders Ukraine and hosts a big Nato base, now has to deal with US hostility too.\\n\\n\"It\\'s a dramatic change. America is our ally, the biggest one, and the most important security provider for Romania,\" Ion Ionis points out. \"We need this partnership to go further and to be stronger.\\n\\n\"People are worried.\"\\n\\nFor Florin Buhuceanu the dispute isn\\'t only political – it\\'s personal.\\n\\nHis Bucharest flat, a modernist gem, is a mini museum \"dedicated to gay memory\".\\n\\nOn one wall there\\'s a large photograph from the 1930s of three gay men under arrest. In the next room is a wooden cabinet that once displayed Romanian fascist-era memorabilia in an antique store. Now it contains pictures of gay icons.\\n\\nRomania only decriminalised homosexuality in 2001.\\n\\n\"No state museum would take such donations,\" Florin says, so he and his partner display the exhibits at home for invited guests.\\n\\nA prominent LGBT activist, he\\'s had so many threats in the heat of this election campaign that the security services have warned him to be careful.\\n\\nEven with Georgescu disappearing as swiftly as he appeared, the atmosphere is febrile.\\n\\nGeorge Simion, now considered a frontrunner, has been investigated after calling for election officials to be \"skinned alive\" for barring Georgescu from the race.\\n\\nHe describes his nationalist AUR as a \"patriotic party of conservative essence\" whose pillars are \"Faith, Nation, Family and Freedom.\"\\n\\nLGBT rights group Mozaiq has warned of a surge in anti-Semitic, racist and homophobic rhetoric in recent weeks. It had to alert police after social media messages urging attacks on its office.\\n\\nSo Florin Buhuceanu fears his country is being thrown back to the past.\\n\\n\"Before 2001, it was absolutely impossible for us to breathe. Now we hear again and again the same rhetoric,\" he says.\\n\\nWorse still, the US, Russia and the Romanian far right now coincide.\\n\\n\"It\\'s obvious that our rights are fragile and the world is regrouping, so we have to continue this battle,\" the activist warns. \"It\\'s not just for our community. It\\'s for the soul of Romanian democracy.\"\\n\\n'\n",
      " 'The director of acclaimed period drama Wolf Hall says filming of last year\\'s second series was nearly called off weeks before it was due to begin because of budget pressures.\\n\\nPeter Kosminsky told BBC Two\\'s Newsnight they eventually opted to axe costly exterior scenes in Wolf Hall: The Mirror and The Light, meaning almost everything in the Tudor drama, screened by the BBC, became \"conversations in rooms\" instead.\\n\\nHe argues public service broadcasters including the BBC and ITV can no longer afford to make high-end British drama.\\n\\nThe Bafta and Golden Globe-winning director is calling for a 5% levy on UK subscription streaming revenues, with the proceeds collected for a British cultural fund.\\n\\nKosminsky told the BBC that six weeks before shooting began, having already cut certain props, locations, costumes and cast members, he and the producer decided the gap was still \"too great\" to go ahead with making The Mirror and The Light.\\n\\n\"That\\'s not something that has ever happened to me before, in all the years I\\'ve been making programmes, that you actually have to stop six weeks from production.\"\\n\\nKosminsky has previously revealed that he - alongside Sir Mark Rylance, who played Thomas Cromwell,  executive producer Colin Callender and Oscar-winning writer Peter Straughan - took significant pay cuts to get the programme over the line.\\n\\nHe said the original script \"had many scenes set outside, many scenes involving horses, we had a whole joust, an extraordinary scene as conceived by Hilary Mantel, the original novelist – and we had to cut everything\".\\n\\nHe said he was still \"incredibly proud of what we\\'ve achieved, and the response overwhelmed us all\".\\n\\nBut the original concept was a programme with \"more fresh air in it, where you got more of a sense of Tudor society out in the world, and the lives these people lived when they weren\\'t in the throne rooms, palaces and beautiful dining rooms\".\\n\\nKosminsky said things had got worse since he filmed the drama, which was broadcast in November.\\n\\nNow, he argues, public service broadcasters would not be able to afford to commission Wolf Hall or Mr Bates vs the Post Office, the landmark ITV drama about the Post Office scandal.\\n\\nOne day in the not too distant future, he warns, British audiences will notice these types of programmes are \"gone\".\\n\\nKosminsky also believes there is \"no way\" the BBC or ITV could afford to make Adolescence, the current hit show from Netflix about a teenager accused of murder.\\n\\nAdolescence writer Jack Thorne thinks traditional broadcasters could have made the drama, but they would have had to cut some of the most expensive scenes.\\n\\n\"It would have been a slightly different version of it,\" Thorne told the BBC.\\n\\n\"In episode two, I wrote a fire drill that involved 300 extras. Those 300 extras had to be employed for 10 days. That is an awful lot of money. So all these things would have been difficult on a public service budget.\\n\\n\"I think we could have done it, it just would have been very different. And truthfully, it probably would have needed co-finance from abroad, and the problem at the moment is that finance has disappeared.\"\\n\\nThe impact of Covid and the 2023 US actors\\' and writers\\' strikes, as well as higher energy costs, are some of the reasons often given for the increasing costs of TV production.\\n\\nAnd Kosminsky is not alone in arguing that the advent of streaming platforms has inflated prices so dramatically that the public service broadcasters have been unable to keep up.\\n\\nPatrick Spence, the executive producer behind Mr Bates vs the Post Office, told the BBC this was \"a serious issue\".\\n\\n\"Not only would Mr Bates not get funded today, but I wouldn\\'t even have started developing it,\" he said.\\n\\nFormer subpostmaster Sir Alan Bates, whose story was central to the programme named after him, said it would be \"a real shame\" if these kinds of dramas could no longer be made.\\n\\nMr Bates vs the Post Office meant \"a lot of people saw for the first time the sort of hell going on in the background in the Post Office, the real miscarriage of justice going on right across the country\", he said.\\n\\nSpence said the price of making dramas had risen at the same time as the international funding model had dried up for these types of shows. Later this year, his ITV drama The Hack, about the phone hacking scandal, by Adolescence writer Jack Thorne, will air in the UK.\\n\\nSpence said there was \"no way\" he could raise the money to fund that programme now.\\n\\nFigures out last month from the BFI showed £5.6bn was spent on high end TV and film production in the UK in 2024. But domestic UK programmes accounted for £598m, down 22% on the previous year.\\n\\nKosminsky argues that a levy on the streamers would put the UK in line with some other European countries that use the proceeds to fund domestic content, such as France and Denmark.\\n\\nBut with many streamers based in the US, would the UK government take on Donald Trump\\'s administration?\\n\\nIn February, a White House memorandum referenced levies on US streaming services, calling them \"one-sided, anti-competitive policies\" that \"violate American sovereignty\".\\n\\nOn Thursday, as she accepted an award from the Broadcasting Press Guild, Jayne Featherstone, executive producer of Netflix\\'s Black Doves, said the UK was \"at risk of losing the very stories that define us\".\\n\\n\"We are in the 45th minute of the pilot episode, and we\\'ve got five minutes left to stop the bomb from going off,\" she said.\\n\\nShe recently told a House of Commons committee she would like to see an uplift in tax relief for high end television, similar to the one already given to the film sector.\\n\\n'\n",
      " 'Venezuela will resume flights for its nationals deported by the US, after reaching an agreement with the Trump administration.\\n\\nVenezuela, which does not have diplomatic relations with the US, hadinitially agreed to accept deportees in February.But President Nicolás Maduro halted flights in March after a dispute with the Trump administration.\\n\\n\"Tomorrow, thanks to the government\\'s perseverance, we\\'ll resume flights to continue rescuing and freeing migrants from prisons in the United States,\" Maduro said in a televised address on Saturday, Reuters reports.\\n\\nThe White House and US State Department did not respond to BBC requests for comment.\\n\\nTrump\\'s special envoy, Richard Grenell, had initially brokered a deal with Venezuela\\'s government to take back its citizens deported from the US.\\n\\n\"Venezuela has agreed to receive, back into their Country, all Venezuela illegal aliens who were encamped in the US, including gang members of Tren de Aragua,\" Trump wrote on Truth Social at the time. \"Venezuela has further agreed to supply the transportation back.\"\\n\\nBut Maduro halted deportation flights from the US on 8 March, after the US Treasury Department suspended the energy giant Chevron\\'s permission to export oil from Venezuela, the AP reported.\\n\\nOn 15 March, the Trump administration deported 238 Venezuelans, who they alleged belonged to theTren de Aragua gang, to El Salvador, where they were detained at a mega-prison.\\n\\nThe administration has not named the individuals deported, or provided details of their alleged criminal behaviour\\n\\nIn a statement issued on Saturday, Jorge Rodríguez, president of Venezuela\\'s national assembly, appeared to address the matter of the Venezuelan nationals currently held in El Salvador.\\n\\nHe said Venezuela accepted a deal to assure \"the return of our compatriots to their nation with the safeguard of their Human Rights,\" the AP reported.\\n\\n\"Migrating isn\\'t a crime, and we won\\'t rest until everyone who wants to return is back and we rescue our kidnapped brothers in El Salvador.\"\\n\\n\\n\\nTrump has used theAlien Enemies Act of 1798as a legal basis for removing 137 of those Venezuelan deportees, which immediately prompted a legal challenge.\\n\\nA federal judge in Washington, DC sought to block the deportation flights to El Salvador via a verbal order.\\n\\nHowever, the planes landed in El Salvador, and the country\\'s president Nayib Bukele posted on social media that the intervention came \"too late\".\\n\\nThe White House has faced allegations of defying the judge\\'s order, which it refutes.\\n\\nThe judge,James Boesberg,demanded more detailsfrom a government lawyer at a hearing on Friday.\\n\\n'\n",
      " 'Canada\\'s Foreign Minister Mélanie Joly has told the BBC she believes Canada can win the trade war which was sparked by a series of tariffs ordered by US President Donald Trump.\\n\\n\"We are the biggest customer of the US,\" Joly told the BBC\\'s World Service Weekend programme. \"We buy more from the Americans than China, Japan, the UK and France combined.\"\\n\\nJoly said tariffs and increased prices are a priority for Canadians as voters prepare to head to the polls to elect a new prime minister later this year.\\n\\nThe US president has imposed 25% tariffs on steel and aluminium imports from Canada. Trump has also vowed to impose a sweeping range of \"reciprocal\" tariffs on 2 April.\\n\\nJoly said that because the US and Canadian economies are so intertwined, \"we have the most leverage in the world when it comes to the US\".\\n\\nShe noted it is not just Canadians feeling the pain from tariffs, but \"hardworking Americans\" too.\\n\\nBut Joly said it could be Americans who are the most successful in urging an end to the trade war.\\n\\n\"We think that ultimately the only ones that will be able to help us win this war... are the Americans themselves because they\\'re the ones that can send a message to their lawmakers,\" she told the BBC.\\n\\n\"We can win the hearts and minds of Americans, because ultimately they\\'re the ones paying for this\" she added, noting that both American and Canadian jobs are at risk because of the tariffs.\\n\\nThe trade war is expected to be at the forefront of Canadians\\' minds when they head to the polls in their first federal election in nearly a decade.\\n\\nReports suggest Prime Minister Carney couldcall for a snap electionon Sunday. That election is expected to be held on 28 April.\\n\\nAnd it is not just the Liberals making the case against US tariffs, Conservative Leader Pierre Poilievre has also been on the trade war. He has argued he is best equipped to take on Trump.\\n\\n\"There is no good reason to do this to these good people,\" Poilievre said earlier this week. \"Stop the tariffs, stop the chaos.\"\\n\\nTrump has vowed to impose further tariffs Canada, and other countries around the world, on 2 April - calling these tariffs \"the big one\".\\n\\nCanadian Prime Minister Mark Carney has promised to impose reciprocal tariffs if Trump\\'s tariff threats come to fruition.\\n\\nIt will bring to head a weeks-long back and forth between the North American countries.\\n\\nThe frustration over trade war has led some Canadians to start protesting.\\n\\nIn Toronto on Saturday, Canadians held an \"elbows up\" protest to push back against President Trump\\'s stated desire of making Canada the 51st state of the US, and the ongoing trade war.\\n\\nThe phrase, used in hockey to describe defending oneself or fighting back, has been repurposed by protesters in Canada.\\n\\nIn the BBC World Service Weekend interview, Joly was also asked about the upcoming federal election.\\n\\nShe said the Liberal party is \"very keen\" to make sure Canadians give the party \"a clear mandate\" to deal with Trump and the threat of tariffs.\\n\\nJoly said Canadians are \"preoccupied\" by what is happening in the White House and they are looking for a prime minister who has \"strong values\".\\n\\nThe race will likely come down to a choice between Carney and Conservative leader Pierre Poilievre.\\n\\nTariffs are a central part of Trump\\'s overall economic vision.\\n\\nHe says tariffs will boost US manufacturing and protect jobs, raising tax revenue and growing the domestic economy.\\n\\nHe also wants to restore America\\'s trade balance with its foreign partners - reducing the gap that exists between how much the US imports from and exports to individual countries.\\n\\nBut he has refused to rule out the prospect of a recession as a result of his trade policies, which sent US stocks sharply down in the days before the metal tariffs took effect.\\n\\nUS Commerce Secretary Howard Lutnick later said the tariffs were \"worth it\" even if they did lead to an economic downturn.\\n\\nTrump\\'s tariffs initially targeted goods from China, Mexico and Canada.\\n\\nThese accounted for more than 40% of imports into the US in 2024.\\n\\nBut Trump has accused the three countries of not doing enough to end the flow of migrants and illegal drugs such as fentanyl into the US.\\n\\nAll three countries have rejected the accusations.\\n\\n'\n",
      " 'An Israeli air strike on the southern city of Khan Younis in Gaza has killed top Hamas political leader Salah al-Bardaweel, a Hamas official has told the BBC.\\n\\nLocals say the air strike killed both Bardaweel, regarded as Hamas\\'s highest-ranking political leader, and his wife. Israeli officials had no immediate comment.\\n\\nThe total death toll in Gaza since the war began surpassed 50,000 on Sunday, its Hamas-run health authorities said, with least 30 people killed in Khan Yunis and Rafah so far on Sunday.\\n\\nIsrael resumed heavy strikes on Gaza earlier this week - in effect ending the first phase of a ceasefire that lasted almost two months. It blamed Hamas for rejecting a new US proposal to extend the truce.\\n\\nHamas, in turn, accused Israel of abandoning the original deal - mediated by Qatar, Egypt and the US. It envisaged the withdrawal of Israeli troops and the subsequent release of Israeli hostages and Palestinian prisoners - in addition to negotiations to end the war entirely and reconstruct Gaza.\\n\\nIn a statement on Sunday, Hamas said Bardaweel, 66, had been praying along with his wife when an Israeli missile struck their tent.\\n\\nA father of eight, Bardaweel was one of Hamas\\'s most prominent political figures.\\n\\nBorn in Khan Younis refugee camp, he was known to be close to Hamas leader Yahya Sinwar and is considered part of the second generation of Hamas leadership, following the movement\\'s founders.\\n\\nHe headed the political wing of Hamas\\'s parliamentary bloc and was re-elected to the group\\'s political bureau in 2021.\\n\\nFollowing the killing of Sinwar and Rawhi Mushtaha during the ongoing war, Bardaweel was regarded as Hamas\\'s highest-ranking political leader.\\n\\nThe air strike that killed Bardaweel was part of one of the most intense waves of aerial bombardment in southern Gaza since the collapse of the ceasefire agreement last Tuesday.\\n\\nA spokesperson for the Palestinian Red Crescent Society told the BBC that Israeli forces were surrounding several of the organisation\\'s ambulances as they attempted to reach an area hit by an Israeli strike in Rafah.\\n\\nHe added that several paramedics were wounded, and contact had been lost with one of the trapped teams, which has been besieged for hours.\\n\\nThe Israeli military issued evacuation orders for residents of the Tel al-Sultan neighbourhood in western Rafah after the area was hit by heavy shelling and a limited ground assault.\\n\\nThe attack included tank fire from Israeli forces positioned along the Philadelphi Corridor on the border with Egypt, and helicopters also took part in the assault.\\n\\nAlaa al-Din Sabah, a resident of the neighbourhood, said in a voice message to the BBC: \"Bullets are raining down on us like it\\'s pouring. A woman was shot and is bleeding. Ambulances couldn\\'t reach her.\"\\n\\n\"I can see one of the paramedics lying on the ground, screaming.\"\\n\\nThe Israeli military launched a campaign to destroy Hamas in response to an unprecedented cross-border attack on 7 October 2023, in which about 1,200 people were killed and 251 were taken hostage.\\n\\nMore than 49,500 Palestinians have been killed in Gaza since then, the Hamas-run health ministry says, and there is large-scale destruction to homes and infrastructure in the Strip.\\n\\n'\n",
      " 'The director of acclaimed period drama Wolf Hall says filming of last year\\'s second series was nearly called off weeks before it was due to begin because of budget pressures.\\n\\nPeter Kosminsky told BBC Two\\'s Newsnight they eventually opted to axe costly exterior scenes in Wolf Hall: The Mirror and The Light, meaning almost everything in the Tudor drama, screened by the BBC, became \"conversations in rooms\" instead.\\n\\nHe argues public service broadcasters including the BBC and ITV can no longer afford to make high-end British drama.\\n\\nThe Bafta and Golden Globe-winning director is calling for a 5% levy on UK subscription streaming revenues, with the proceeds collected for a British cultural fund.\\n\\nKosminsky told the BBC that six weeks before shooting began, having already cut certain props, locations, costumes and cast members, he and the producer decided the gap was still \"too great\" to go ahead with making The Mirror and The Light.\\n\\n\"That\\'s not something that has ever happened to me before, in all the years I\\'ve been making programmes, that you actually have to stop six weeks from production.\"\\n\\nKosminsky has previously revealed that he - alongside Sir Mark Rylance, who played Thomas Cromwell,  executive producer Colin Callender and Oscar-winning writer Peter Straughan - took significant pay cuts to get the programme over the line.\\n\\nHe said the original script \"had many scenes set outside, many scenes involving horses, we had a whole joust, an extraordinary scene as conceived by Hilary Mantel, the original novelist – and we had to cut everything\".\\n\\nHe said he was still \"incredibly proud of what we\\'ve achieved, and the response overwhelmed us all\".\\n\\nBut the original concept was a programme with \"more fresh air in it, where you got more of a sense of Tudor society out in the world, and the lives these people lived when they weren\\'t in the throne rooms, palaces and beautiful dining rooms\".\\n\\nKosminsky said things had got worse since he filmed the drama, which was broadcast in November.\\n\\nNow, he argues, public service broadcasters would not be able to afford to commission Wolf Hall or Mr Bates vs the Post Office, the landmark ITV drama about the Post Office scandal.\\n\\nOne day in the not too distant future, he warns, British audiences will notice these types of programmes are \"gone\".\\n\\nKosminsky also believes there is \"no way\" the BBC or ITV could afford to make Adolescence, the current hit show from Netflix about a teenager accused of murder.\\n\\nAdolescence writer Jack Thorne thinks traditional broadcasters could have made the drama, but they would have had to cut some of the most expensive scenes.\\n\\n\"It would have been a slightly different version of it,\" Thorne told the BBC.\\n\\n\"In episode two, I wrote a fire drill that involved 300 extras. Those 300 extras had to be employed for 10 days. That is an awful lot of money. So all these things would have been difficult on a public service budget.\\n\\n\"I think we could have done it, it just would have been very different. And truthfully, it probably would have needed co-finance from abroad, and the problem at the moment is that finance has disappeared.\"\\n\\nThe impact of Covid and the 2023 US actors\\' and writers\\' strikes, as well as higher energy costs, are some of the reasons often given for the increasing costs of TV production.\\n\\nAnd Kosminsky is not alone in arguing that the advent of streaming platforms has inflated prices so dramatically that the public service broadcasters have been unable to keep up.\\n\\nPatrick Spence, the executive producer behind Mr Bates vs the Post Office, told the BBC this was \"a serious issue\".\\n\\n\"Not only would Mr Bates not get funded today, but I wouldn\\'t even have started developing it,\" he said.\\n\\nFormer subpostmaster Sir Alan Bates, whose story was central to the programme named after him, said it would be \"a real shame\" if these kinds of dramas could no longer be made.\\n\\nMr Bates vs the Post Office meant \"a lot of people saw for the first time the sort of hell going on in the background in the Post Office, the real miscarriage of justice going on right across the country\", he said.\\n\\nSpence said the price of making dramas had risen at the same time as the international funding model had dried up for these types of shows. Later this year, his ITV drama The Hack, about the phone hacking scandal, by Adolescence writer Jack Thorne, will air in the UK.\\n\\nSpence said there was \"no way\" he could raise the money to fund that programme now.\\n\\nFigures out last month from the BFI showed £5.6bn was spent on high end TV and film production in the UK in 2024. But domestic UK programmes accounted for £598m, down 22% on the previous year.\\n\\nKosminsky argues that a levy on the streamers would put the UK in line with some other European countries that use the proceeds to fund domestic content, such as France and Denmark.\\n\\nBut with many streamers based in the US, would the UK government take on Donald Trump\\'s administration?\\n\\nIn February, a White House memorandum referenced levies on US streaming services, calling them \"one-sided, anti-competitive policies\" that \"violate American sovereignty\".\\n\\nOn Thursday, as she accepted an award from the Broadcasting Press Guild, Jayne Featherstone, executive producer of Netflix\\'s Black Doves, said the UK was \"at risk of losing the very stories that define us\".\\n\\n\"We are in the 45th minute of the pilot episode, and we\\'ve got five minutes left to stop the bomb from going off,\" she said.\\n\\nShe recently told a House of Commons committee she would like to see an uplift in tax relief for high end television, similar to the one already given to the film sector.\\n\\n']\n",
      "[1 1 1 1 1 1 1 1 1 1 1 1 1 1 1 1 1 1 1 1 1 1 1]\n"
     ]
    }
   ],
   "source": [
    "X = cleaned_dataset['text'].values\n",
    "Y = cleaned_dataset['classification'].values\n",
    "\n",
    "print(X)\n",
    "print(Y)"
   ]
  },
  {
   "cell_type": "code",
   "execution_count": 11,
   "metadata": {},
   "outputs": [
    {
     "name": "stdout",
     "output_type": "stream",
     "text": [
      "<Compressed Sparse Row sparse matrix of dtype 'float64'\n",
      "\twith 8581 stored elements and shape (23, 3435)>\n",
      "  Coords\tValues\n",
      "  (0, 3)\t0.0318195951612149\n",
      "  (0, 4)\t0.0318195951612149\n",
      "  (0, 48)\t0.0636391903224298\n",
      "  (0, 50)\t0.026541279490594247\n",
      "  (0, 68)\t0.0318195951612149\n",
      "  (0, 70)\t0.024657367083807197\n",
      "  (0, 101)\t0.028847001930702883\n",
      "  (0, 102)\t0.019379051413186542\n",
      "  (0, 103)\t0.011712678915205211\n",
      "  (0, 113)\t0.021684773853295185\n",
      "  (0, 121)\t0.026541279490594247\n",
      "  (0, 125)\t0.04336954770659037\n",
      "  (0, 131)\t0.017495139006399495\n",
      "  (0, 164)\t0.0318195951612149\n",
      "  (0, 173)\t0.039916512478511405\n",
      "  (0, 175)\t0.020467732236911507\n",
      "  (0, 176)\t0.07751620565274617\n",
      "  (0, 181)\t0.0318195951612149\n",
      "  (0, 191)\t0.0318195951612149\n",
      "  (0, 193)\t0.019379051413186542\n",
      "  (0, 205)\t0.030378833132581714\n",
      "  (0, 206)\t0.024657367083807197\n",
      "  (0, 207)\t0.026541279490594247\n",
      "  (0, 209)\t0.028847001930702883\n",
      "  (0, 237)\t0.046850715660820844\n",
      "  :\t:\n",
      "  (22, 3335)\t0.04744894071515649\n",
      "  (22, 3338)\t0.01581631357171883\n",
      "  (22, 3342)\t0.023208390283417507\n",
      "  (22, 3345)\t0.01107876784923954\n",
      "  (22, 3348)\t0.009704690832389869\n",
      "  (22, 3350)\t0.01107876784923954\n",
      "  (22, 3353)\t0.009704690832389869\n",
      "  (22, 3356)\t0.01581631357171883\n",
      "  (22, 3357)\t0.010135468542706458\n",
      "  (22, 3358)\t0.01798444624273593\n",
      "  (22, 3360)\t0.016822680678602646\n",
      "  (22, 3367)\t0.021184739062074496\n",
      "  (22, 3372)\t0.046416780566835014\n",
      "  (22, 3374)\t0.03928655585382811\n",
      "  (22, 3381)\t0.06962517085025252\n",
      "  (22, 3396)\t0.01107876784923954\n",
      "  (22, 3401)\t0.0193585232595856\n",
      "  (22, 3404)\t0.11149015396977104\n",
      "  (22, 3405)\t0.01798444624273593\n",
      "  (22, 3408)\t0.06962517085025252\n",
      "  (22, 3409)\t0.023208390283417507\n",
      "  (22, 3412)\t0.021040257612400408\n",
      "  (22, 3417)\t0.03040640562811937\n",
      "  (22, 3418)\t0.011598736637921065\n",
      "  (22, 3426)\t0.02431451136055797\n"
     ]
    }
   ],
   "source": [
    "# converting the textual data to numerical data\n",
    "vectorizer = TfidfVectorizer()\n",
    "vectorizer.fit(X)\n",
    "\n",
    "X = vectorizer.transform(X)\n",
    "\n",
    "print(X)"
   ]
  },
  {
   "cell_type": "code",
   "execution_count": 12,
   "metadata": {},
   "outputs": [],
   "source": [
    "X_train, X_test, Y_train, Y_test = train_test_split(X, Y, test_size=0.2, random_state=42)"
   ]
  },
  {
   "cell_type": "code",
   "execution_count": null,
   "metadata": {},
   "outputs": [
    {
     "name": "stdout",
     "output_type": "stream",
     "text": [
      "Accuracy of KNN model: 1.0000\n"
     ]
    }
   ],
   "source": [
    "knn = KNeighborsClassifier(n_neighbors=5)\n",
    "knn.fit(X_train, Y_train)\n",
    "\n",
    "Y_pred = knn.predict(X_test)"
   ]
  },
  {
   "cell_type": "markdown",
   "metadata": {},
   "source": [
    "## Evaluation"
   ]
  },
  {
   "cell_type": "code",
   "execution_count": 14,
   "metadata": {},
   "outputs": [
    {
     "name": "stdout",
     "output_type": "stream",
     "text": [
      "Accuracy of KNN model: 1.0000\n"
     ]
    }
   ],
   "source": [
    "accuracy = accuracy_score(Y_test, Y_pred)\n",
    "print(f'Accuracy of KNN model: {accuracy:.4f}')"
   ]
  }
 ],
 "metadata": {
  "kernelspec": {
   "display_name": "Python 3",
   "language": "python",
   "name": "python3"
  },
  "language_info": {
   "codemirror_mode": {
    "name": "ipython",
    "version": 3
   },
   "file_extension": ".py",
   "mimetype": "text/x-python",
   "name": "python",
   "nbconvert_exporter": "python",
   "pygments_lexer": "ipython3",
   "version": "3.11.5"
  }
 },
 "nbformat": 4,
 "nbformat_minor": 2
}
